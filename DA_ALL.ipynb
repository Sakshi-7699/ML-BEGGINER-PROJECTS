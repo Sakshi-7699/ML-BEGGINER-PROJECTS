{
  "nbformat": 4,
  "nbformat_minor": 0,
  "metadata": {
    "colab": {
      "name": "DA_ALL.ipynb",
      "provenance": [],
      "toc_visible": true,
      "authorship_tag": "ABX9TyMKvCXrMM4lsYAMyqxPpO5h",
      "include_colab_link": true
    },
    "kernelspec": {
      "name": "python3",
      "display_name": "Python 3"
    }
  },
  "cells": [
    {
      "cell_type": "markdown",
      "metadata": {
        "id": "view-in-github",
        "colab_type": "text"
      },
      "source": [
        "<a href=\"https://colab.research.google.com/github/Sakshi-7699/Machine-Learning-Projects/blob/master/DA_ALL.ipynb\" target=\"_parent\"><img src=\"https://colab.research.google.com/assets/colab-badge.svg\" alt=\"Open In Colab\"/></a>"
      ]
    },
    {
      "cell_type": "markdown",
      "metadata": {
        "id": "ABWJzGc_gmoC"
      },
      "source": [
        "\n",
        "# **ASSIGNMENT 1**\n",
        "\n",
        "\n",
        "Download the Iris flower dataset or any other dataset into a DataFrame. (eg https://archive.ics.uci.edu/ml/datasets/Iris ) Use Python/R and Perform following –\n",
        "\n",
        "*  How many features are there and what are their types (e.g., numeric, nominal)?\n",
        "*   Compute and display summary statistics for each feature available in the dataset.(eg. minimum value, maximum value, mean, range, standard deviation, variance and percentiles\n",
        "\n",
        "\n",
        "*   Data Visualization-Create a histogram for each feature in the dataset to illustrate the\n",
        "feature distributions. Plot each histogram.\n",
        "*   Create a boxplot for each feature in the dataset. All of the boxplots should be combined into a single plot. Compare distributions and identify outliers."
      ]
    },
    {
      "cell_type": "code",
      "metadata": {
        "id": "4sMP6yCYgjF0"
      },
      "source": [
        "import pandas as pd\n",
        "import numpy as np\n",
        "from matplotlib import pyplot as plt"
      ],
      "execution_count": 24,
      "outputs": []
    },
    {
      "cell_type": "code",
      "metadata": {
        "id": "KtTH0jHyiHNX"
      },
      "source": [
        "df = pd.read_csv('/content/Iris.csv')\n",
        "df.head()"
      ],
      "execution_count": null,
      "outputs": []
    },
    {
      "cell_type": "code",
      "metadata": {
        "id": "06-qfWaqiwd6"
      },
      "source": [
        "print(\"Shape : \",df.shape)"
      ],
      "execution_count": null,
      "outputs": []
    },
    {
      "cell_type": "code",
      "metadata": {
        "id": "ok2v1PYFi1Tu"
      },
      "source": [
        "#df.info()\n",
        "#df.summary()\n",
        "df.describe()"
      ],
      "execution_count": null,
      "outputs": []
    },
    {
      "cell_type": "code",
      "metadata": {
        "id": "rsjqqWsWk5sJ"
      },
      "source": [
        "df.dtypes"
      ],
      "execution_count": null,
      "outputs": []
    },
    {
      "cell_type": "code",
      "metadata": {
        "id": "vI0NwIlbldd_"
      },
      "source": [
        "df.shape"
      ],
      "execution_count": null,
      "outputs": []
    },
    {
      "cell_type": "code",
      "metadata": {
        "id": "PDcTKdV8ljs9"
      },
      "source": [
        "data = df['SepalLengthCm'] \n",
        "\n",
        "plt.hist(data, bins = 20, color = 'blue',edgecolor='black') \n",
        "plt.title('Sepal Length in cm') \n",
        "plt.xlabel('Sepal Length cm') \n",
        "plt.ylabel('Count') \n",
        "plt.show()\n"
      ],
      "execution_count": null,
      "outputs": []
    },
    {
      "cell_type": "code",
      "metadata": {
        "id": "OM0b23RguOep"
      },
      "source": [
        "data = df['SepalWidthCm'] \n",
        "\n",
        "plt.hist(data, bins = 20, color = 'yellow',edgecolor='black') \n",
        "plt.title('Sepal Width in cm') \n",
        "plt.xlabel('Sepal Width cm') \n",
        "plt.ylabel('Count') \n",
        "plt.show()\n",
        " "
      ],
      "execution_count": null,
      "outputs": []
    },
    {
      "cell_type": "code",
      "metadata": {
        "id": "X6IsyV-SuctP"
      },
      "source": [
        "data = df['PetalLengthCm'] \n",
        "\n",
        "plt.hist(data, bins = 20, color = 'red',edgecolor='black') \n",
        "plt.title('Petal Length in Cm') \n",
        "plt.xlabel('Petal Length Cm') \n",
        "plt.ylabel('Count') \n",
        "plt.show()"
      ],
      "execution_count": null,
      "outputs": []
    },
    {
      "cell_type": "code",
      "metadata": {
        "id": "id20cY2aueYs"
      },
      "source": [
        "data = df['PetalWidthCm'] \n",
        "\n",
        "plt.hist(data, bins = 20, color = 'pink',edgecolor='black') \n",
        "plt.title('Petal Width in Cm') \n",
        "plt.xlabel('Petal Width Cm') \n",
        "plt.ylabel('Count') \n",
        "plt.show()\n"
      ],
      "execution_count": null,
      "outputs": []
    },
    {
      "cell_type": "code",
      "metadata": {
        "id": "PtX6XID7ugOP"
      },
      "source": [
        "data = df['Species'] \n",
        "\n",
        "plt.hist(data, bins = 20, color = 'cyan',edgecolor='black') \n",
        "plt.title('Species') \n",
        "plt.xlabel('Species') \n",
        "plt.ylabel('Count') \n",
        "plt.show()"
      ],
      "execution_count": null,
      "outputs": []
    },
    {
      "cell_type": "code",
      "metadata": {
        "id": "rqLPSgs5uiwR"
      },
      "source": [
        "data_frame2=df[['SepalLengthCm', 'SepalWidthCm', 'PetalLengthCm', 'PetalWidthCm']]\n",
        "data_frame2.plot.box(title='All Features with outliers')\n",
        "plt.show()"
      ],
      "execution_count": null,
      "outputs": []
    },
    {
      "cell_type": "markdown",
      "metadata": {
        "id": "OsTkEJMfxJJB"
      },
      "source": [
        "# **ASSIGNMENT 2**\n",
        "\n",
        "\n",
        "Download Pima Indians Diabetes dataset. Use Naive Bayes‟ Algorithm for classification\n",
        "\n",
        "\n",
        "\n",
        "*   Load the data from CSV file and split it into training and test datasets.\n",
        "*   summarize the properties in the training dataset so that we can calculate\n",
        "probabilities and make predictions.\n",
        "*   Classify samples from a test dataset and a summarized training dataset\n",
        "\n",
        "\n"
      ]
    },
    {
      "cell_type": "code",
      "metadata": {
        "id": "v2tl4cD_xd12"
      },
      "source": [
        "import pandas as pd\n",
        "import numpy as np\n",
        "import matplotlib.pyplot as plt"
      ],
      "execution_count": 37,
      "outputs": []
    },
    {
      "cell_type": "code",
      "metadata": {
        "id": "z1p001fDxzMK"
      },
      "source": [
        "df = pd.read_csv('/content/diabetes.csv')"
      ],
      "execution_count": 38,
      "outputs": []
    },
    {
      "cell_type": "code",
      "metadata": {
        "id": "g_c5WJHAyF9h",
        "outputId": "0e339ac3-9eb5-4cfd-d619-c4d29ba14195",
        "colab": {
          "base_uri": "https://localhost:8080/",
          "height": 198
        }
      },
      "source": [
        "df.head()"
      ],
      "execution_count": 39,
      "outputs": [
        {
          "output_type": "execute_result",
          "data": {
            "text/html": [
              "<div>\n",
              "<style scoped>\n",
              "    .dataframe tbody tr th:only-of-type {\n",
              "        vertical-align: middle;\n",
              "    }\n",
              "\n",
              "    .dataframe tbody tr th {\n",
              "        vertical-align: top;\n",
              "    }\n",
              "\n",
              "    .dataframe thead th {\n",
              "        text-align: right;\n",
              "    }\n",
              "</style>\n",
              "<table border=\"1\" class=\"dataframe\">\n",
              "  <thead>\n",
              "    <tr style=\"text-align: right;\">\n",
              "      <th></th>\n",
              "      <th>Pregnancies</th>\n",
              "      <th>Glucose</th>\n",
              "      <th>BloodPressure</th>\n",
              "      <th>SkinThickness</th>\n",
              "      <th>Insulin</th>\n",
              "      <th>BMI</th>\n",
              "      <th>DiabetesPedigreeFunction</th>\n",
              "      <th>Age</th>\n",
              "      <th>Outcome</th>\n",
              "    </tr>\n",
              "  </thead>\n",
              "  <tbody>\n",
              "    <tr>\n",
              "      <th>0</th>\n",
              "      <td>6</td>\n",
              "      <td>148</td>\n",
              "      <td>72</td>\n",
              "      <td>35</td>\n",
              "      <td>0</td>\n",
              "      <td>33.6</td>\n",
              "      <td>0.627</td>\n",
              "      <td>50</td>\n",
              "      <td>1</td>\n",
              "    </tr>\n",
              "    <tr>\n",
              "      <th>1</th>\n",
              "      <td>1</td>\n",
              "      <td>85</td>\n",
              "      <td>66</td>\n",
              "      <td>29</td>\n",
              "      <td>0</td>\n",
              "      <td>26.6</td>\n",
              "      <td>0.351</td>\n",
              "      <td>31</td>\n",
              "      <td>0</td>\n",
              "    </tr>\n",
              "    <tr>\n",
              "      <th>2</th>\n",
              "      <td>8</td>\n",
              "      <td>183</td>\n",
              "      <td>64</td>\n",
              "      <td>0</td>\n",
              "      <td>0</td>\n",
              "      <td>23.3</td>\n",
              "      <td>0.672</td>\n",
              "      <td>32</td>\n",
              "      <td>1</td>\n",
              "    </tr>\n",
              "    <tr>\n",
              "      <th>3</th>\n",
              "      <td>1</td>\n",
              "      <td>89</td>\n",
              "      <td>66</td>\n",
              "      <td>23</td>\n",
              "      <td>94</td>\n",
              "      <td>28.1</td>\n",
              "      <td>0.167</td>\n",
              "      <td>21</td>\n",
              "      <td>0</td>\n",
              "    </tr>\n",
              "    <tr>\n",
              "      <th>4</th>\n",
              "      <td>0</td>\n",
              "      <td>137</td>\n",
              "      <td>40</td>\n",
              "      <td>35</td>\n",
              "      <td>168</td>\n",
              "      <td>43.1</td>\n",
              "      <td>2.288</td>\n",
              "      <td>33</td>\n",
              "      <td>1</td>\n",
              "    </tr>\n",
              "  </tbody>\n",
              "</table>\n",
              "</div>"
            ],
            "text/plain": [
              "   Pregnancies  Glucose  BloodPressure  ...  DiabetesPedigreeFunction  Age  Outcome\n",
              "0            6      148             72  ...                     0.627   50        1\n",
              "1            1       85             66  ...                     0.351   31        0\n",
              "2            8      183             64  ...                     0.672   32        1\n",
              "3            1       89             66  ...                     0.167   21        0\n",
              "4            0      137             40  ...                     2.288   33        1\n",
              "\n",
              "[5 rows x 9 columns]"
            ]
          },
          "metadata": {
            "tags": []
          },
          "execution_count": 39
        }
      ]
    },
    {
      "cell_type": "code",
      "metadata": {
        "id": "1KybR_JqyJPU",
        "outputId": "a0df7c95-d10d-44a2-ed40-b713743bbee2",
        "colab": {
          "base_uri": "https://localhost:8080/",
          "height": 281
        }
      },
      "source": [
        "df.hist()\n",
        "plt.show()"
      ],
      "execution_count": 41,
      "outputs": [
        {
          "output_type": "display_data",
          "data": {
            "image/png": "[encoded data removed]",
            "text/plain": [
              "<Figure size 432x288 with 9 Axes>"
            ]
          },
          "metadata": {
            "tags": [],
            "needs_background": "light"
          }
        }
      ]
    },
    {
      "cell_type": "code",
      "metadata": {
        "id": "o-TGRqq4yMF8"
      },
      "source": [
        "X = df.drop('Outcome',axis=1)\n",
        "y = df['Outcome']"
      ],
      "execution_count": 44,
      "outputs": []
    },
    {
      "cell_type": "code",
      "metadata": {
        "id": "cG46hCbzyc0g",
        "outputId": "4ea26ef5-87cf-4439-d7e0-1df1b63a2e33",
        "colab": {
          "base_uri": "https://localhost:8080/"
        }
      },
      "source": [
        "X.isnull().any()"
      ],
      "execution_count": 45,
      "outputs": [
        {
          "output_type": "execute_result",
          "data": {
            "text/plain": [
              "Pregnancies                 False\n",
              "Glucose                     False\n",
              "BloodPressure               False\n",
              "SkinThickness               False\n",
              "Insulin                     False\n",
              "BMI                         False\n",
              "DiabetesPedigreeFunction    False\n",
              "Age                         False\n",
              "dtype: bool"
            ]
          },
          "metadata": {
            "tags": []
          },
          "execution_count": 45
        }
      ]
    },
    {
      "cell_type": "code",
      "metadata": {
        "id": "WVmvQysMynOO",
        "outputId": "988f0c9d-2aea-4e74-85d2-d8425604f1aa",
        "colab": {
          "base_uri": "https://localhost:8080/"
        }
      },
      "source": [
        "y.isnull().any()"
      ],
      "execution_count": 46,
      "outputs": [
        {
          "output_type": "execute_result",
          "data": {
            "text/plain": [
              "False"
            ]
          },
          "metadata": {
            "tags": []
          },
          "execution_count": 46
        }
      ]
    },
    {
      "cell_type": "code",
      "metadata": {
        "id": "6-qZjNuLyqDI"
      },
      "source": [
        "#split the X and y into test and train\n",
        "from sklearn.model_selection import train_test_split\n",
        "X_train, X_test, y_train, y_test = train_test_split(X,y,test_size=0.3,random_state=1)"
      ],
      "execution_count": 47,
      "outputs": []
    },
    {
      "cell_type": "code",
      "metadata": {
        "id": "xyZ_Yk1-ytqV"
      },
      "source": [
        "#scaling\n",
        "from sklearn.preprocessing import MinMaxScaler\n",
        "scaler_X = MinMaxScaler()\n",
        "X_train = scaler_X.fit_transform(X_train)\n",
        "X_test = scaler_X.transform(X_test)"
      ],
      "execution_count": 48,
      "outputs": []
    },
    {
      "cell_type": "code",
      "metadata": {
        "id": "fRk2suMdyvXm"
      },
      "source": [
        "#define the model, Naive Bayes\n",
        "from sklearn.naive_bayes import GaussianNB\n",
        "model = GaussianNB()\n"
      ],
      "execution_count": 49,
      "outputs": []
    },
    {
      "cell_type": "code",
      "metadata": {
        "id": "5_F3MiVmyzKY"
      },
      "source": [
        "#train the model on training values\n",
        "model.fit(X_train, y_train)\n",
        "\n",
        "#perform predictions on test values\n",
        "y_pred=model.predict(X_test)"
      ],
      "execution_count": 50,
      "outputs": []
    },
    {
      "cell_type": "code",
      "metadata": {
        "id": "v1dR7beky1-5",
        "outputId": "e0c0502d-e203-434a-9594-b71a0ffb36ec",
        "colab": {
          "base_uri": "https://localhost:8080/"
        }
      },
      "source": [
        "#determine accuracy of the model\n",
        "from sklearn.metrics import accuracy_score\n",
        "accuracy=accuracy_score(y_test, y_pred, normalize=True)\n",
        "print(\"Accuracy of the Naive Bayes model: \",accuracy)"
      ],
      "execution_count": 51,
      "outputs": [
        {
          "output_type": "stream",
          "text": [
            "Accuracy of the Naive Bayes model:  0.7835497835497836\n"
          ],
          "name": "stdout"
        }
      ]
    },
    {
      "cell_type": "code",
      "metadata": {
        "id": "Wc4tInxry39C",
        "outputId": "92a24a94-95b3-47bd-b9a0-4b23c7dbefed",
        "colab": {
          "base_uri": "https://localhost:8080/"
        }
      },
      "source": [
        "from sklearn.metrics import confusion_matrix\n",
        "cf = confusion_matrix(y_test, y_pred)\n",
        "print(\"Confusion matrix: \",cf)"
      ],
      "execution_count": 52,
      "outputs": [
        {
          "output_type": "stream",
          "text": [
            "Confusion matrix:  [[128  18]\n",
            " [ 32  53]]\n"
          ],
          "name": "stdout"
        }
      ]
    },
    {
      "cell_type": "code",
      "metadata": {
        "id": "5pXduN8ly5zu",
        "outputId": "190d3392-95d6-46e9-d2ce-dcf012c2b458",
        "colab": {
          "base_uri": "https://localhost:8080/"
        }
      },
      "source": [
        "#user input\n",
        "pred=[[6,148,72,35,0,33.6,0.627,50]]\n",
        "y_pred1=model.predict(pred)\n",
        "print(\"user ip prediction: \",y_pred1)"
      ],
      "execution_count": 53,
      "outputs": [
        {
          "output_type": "stream",
          "text": [
            "user ip prediction:  [1]\n"
          ],
          "name": "stdout"
        }
      ]
    },
    {
      "cell_type": "markdown",
      "metadata": {
        "id": "e7rECbRV0tYC"
      },
      "source": [
        "# **ASSIGNMENT 3**\n",
        "\n",
        "Bigmart Sales Analysis: For data comprising of transaction records of a sales store. The data\n",
        "has 8523 rows of 12 variables. Predict the sales of a store. Sample Test data set available\n",
        "here https://datahack.analyticsvidhya.com/contest/practice-problem-big-mart-sales-iii/"
      ]
    },
    {
      "cell_type": "code",
      "metadata": {
        "id": "-ZpqeC-v1P2d"
      },
      "source": [
        "import numpy as np # linear algebra\n",
        "import pandas as pd # data processing, CSV file I/O (e.g. pd.read_csv)\n",
        "import matplotlib.pyplot as plt\n",
        "import seaborn as sns\n",
        "%matplotlib inline"
      ],
      "execution_count": 54,
      "outputs": []
    },
    {
      "cell_type": "code",
      "metadata": {
        "id": "A6e5Enou1UCa",
        "outputId": "69d4121f-6b4c-4b61-cbf7-e2cef346b490",
        "colab": {
          "base_uri": "https://localhost:8080/"
        }
      },
      "source": [
        "train_data=pd.read_csv(\"/content/Train.csv\")\n",
        "test_data=pd.read_csv(\"/content/Test.csv\")\n",
        "print(train_data.shape)\n",
        "print(test_data.shape)"
      ],
      "execution_count": 55,
      "outputs": [
        {
          "output_type": "stream",
          "text": [
            "(8523, 12)\n",
            "(5681, 11)\n"
          ],
          "name": "stdout"
        }
      ]
    },
    {
      "cell_type": "code",
      "metadata": {
        "id": "a4rhtw851cqn"
      },
      "source": [
        "train_data['source']='train'\n",
        "test_data['source']='test'\n",
        "data=pd.concat([train_data,test_data],ignore_index=True)"
      ],
      "execution_count": 56,
      "outputs": []
    },
    {
      "cell_type": "code",
      "metadata": {
        "id": "hny-NqmT1fA0",
        "outputId": "1782504b-3512-488b-fbb4-33851c4d1edf",
        "colab": {
          "base_uri": "https://localhost:8080/"
        }
      },
      "source": [
        "print(train_data.shape)\n",
        "print(train_data.head)\n",
        "train_data.dtypes"
      ],
      "execution_count": 57,
      "outputs": [
        {
          "output_type": "stream",
          "text": [
            "(8523, 13)\n",
            "<bound method NDFrame.head of      Item_Identifier  Item_Weight  ... Item_Outlet_Sales  source\n",
            "0              FDA15        9.300  ...         3735.1380   train\n",
            "1              DRC01        5.920  ...          443.4228   train\n",
            "2              FDN15       17.500  ...         2097.2700   train\n",
            "3              FDX07       19.200  ...          732.3800   train\n",
            "4              NCD19        8.930  ...          994.7052   train\n",
            "...              ...          ...  ...               ...     ...\n",
            "8518           FDF22        6.865  ...         2778.3834   train\n",
            "8519           FDS36        8.380  ...          549.2850   train\n",
            "8520           NCJ29       10.600  ...         1193.1136   train\n",
            "8521           FDN46        7.210  ...         1845.5976   train\n",
            "8522           DRG01       14.800  ...          765.6700   train\n",
            "\n",
            "[8523 rows x 13 columns]>\n"
          ],
          "name": "stdout"
        },
        {
          "output_type": "execute_result",
          "data": {
            "text/plain": [
              "Item_Identifier               object\n",
              "Item_Weight                  float64\n",
              "Item_Fat_Content              object\n",
              "Item_Visibility              float64\n",
              "Item_Type                     object\n",
              "Item_MRP                     float64\n",
              "Outlet_Identifier             object\n",
              "Outlet_Establishment_Year      int64\n",
              "Outlet_Size                   object\n",
              "Outlet_Location_Type          object\n",
              "Outlet_Type                   object\n",
              "Item_Outlet_Sales            float64\n",
              "source                        object\n",
              "dtype: object"
            ]
          },
          "metadata": {
            "tags": []
          },
          "execution_count": 57
        }
      ]
    },
    {
      "cell_type": "code",
      "metadata": {
        "id": "uAIX_sJD1g8Q",
        "outputId": "78643c59-d8a9-446f-d5b7-7b842ea9363a",
        "colab": {
          "base_uri": "https://localhost:8080/"
        }
      },
      "source": [
        "test_data.apply(lambda x: sum(x.isnull()))"
      ],
      "execution_count": 58,
      "outputs": [
        {
          "output_type": "execute_result",
          "data": {
            "text/plain": [
              "Item_Identifier                 0\n",
              "Item_Weight                   976\n",
              "Item_Fat_Content                0\n",
              "Item_Visibility                 0\n",
              "Item_Type                       0\n",
              "Item_MRP                        0\n",
              "Outlet_Identifier               0\n",
              "Outlet_Establishment_Year       0\n",
              "Outlet_Size                  1606\n",
              "Outlet_Location_Type            0\n",
              "Outlet_Type                     0\n",
              "source                          0\n",
              "dtype: int64"
            ]
          },
          "metadata": {
            "tags": []
          },
          "execution_count": 58
        }
      ]
    },
    {
      "cell_type": "code",
      "metadata": {
        "id": "dpATXFm31jFY"
      },
      "source": [
        "test_data['Item_Fat_Content'].unique()\n",
        "train_data['Item_Fat_Content'].replace(['low fat','LF','reg'],['Low Fat','Low Fat','Regular'],inplace = True)\n",
        "test_data['Item_Fat_Content'].replace(['low fat','LF','reg'],['Low Fat','Low Fat','Regular'],inplace = True)"
      ],
      "execution_count": 59,
      "outputs": []
    },
    {
      "cell_type": "code",
      "metadata": {
        "id": "mW62szLw1lsk"
      },
      "source": [
        "train_data['num_years'] = train_data['Outlet_Establishment_Year'].apply(lambda x: 2013 - x) \n",
        "test_data['num_years'] = test_data['Outlet_Establishment_Year'].apply(lambda x: 2013 - x)"
      ],
      "execution_count": 60,
      "outputs": []
    },
    {
      "cell_type": "code",
      "metadata": {
        "id": "IMWEMf171nuq",
        "outputId": "aed37da6-beba-4e7b-c0fa-4f6c73ea3651",
        "colab": {
          "base_uri": "https://localhost:8080/"
        }
      },
      "source": [
        "train_data['Item_Type'].unique()"
      ],
      "execution_count": 61,
      "outputs": [
        {
          "output_type": "execute_result",
          "data": {
            "text/plain": [
              "array(['Dairy', 'Soft Drinks', 'Meat', 'Fruits and Vegetables',\n",
              "       'Household', 'Baking Goods', 'Snack Foods', 'Frozen Foods',\n",
              "       'Breakfast', 'Health and Hygiene', 'Hard Drinks', 'Canned',\n",
              "       'Breads', 'Starchy Foods', 'Others', 'Seafood'], dtype=object)"
            ]
          },
          "metadata": {
            "tags": []
          },
          "execution_count": 61
        }
      ]
    },
    {
      "cell_type": "code",
      "metadata": {
        "id": "6ov56PbE1pQr",
        "outputId": "5462849f-37ae-418b-aba8-b30cae204527",
        "colab": {
          "base_uri": "https://localhost:8080/",
          "height": 495
        }
      },
      "source": [
        "sns.factorplot('Outlet_Location_Type',data = train_data,hue ='Outlet_Size' ,kind='count')"
      ],
      "execution_count": 62,
      "outputs": [
        {
          "output_type": "stream",
          "text": [
            "/usr/local/lib/python3.6/dist-packages/seaborn/categorical.py:3704: UserWarning: The `factorplot` function has been renamed to `catplot`. The original name will be removed in a future release. Please update your code. Note that the default `kind` in `factorplot` (`'point'`) has changed `'strip'` in `catplot`.\n",
            "  warnings.warn(msg)\n",
            "/usr/local/lib/python3.6/dist-packages/seaborn/_decorators.py:43: FutureWarning: Pass the following variable as a keyword arg: x. From version 0.12, the only valid positional argument will be `data`, and passing other arguments without an explicit keyword will result in an error or misinterpretation.\n",
            "  FutureWarning\n"
          ],
          "name": "stderr"
        },
        {
          "output_type": "execute_result",
          "data": {
            "text/plain": [
              "<seaborn.axisgrid.FacetGrid at 0x7f15629f4710>"
            ]
          },
          "metadata": {
            "tags": []
          },
          "execution_count": 62
        },
        {
          "output_type": "display_data",
          "data": {
            "image/png": "[encoded data removed]",
            "text/plain": [
              "<Figure size 436x360 with 1 Axes>"
            ]
          },
          "metadata": {
            "tags": [],
            "needs_background": "light"
          }
        }
      ]
    },
    {
      "cell_type": "code",
      "metadata": {
        "id": "jXLIoQui1sV5"
      },
      "source": [
        "full_data = [train_data, test_data]\n",
        "for data in full_data:\n",
        "    data['Item_Weight'].fillna(data['Item_Weight'].mean(),inplace = True)\n",
        "    data['Outlet_Size'].fillna('Medium',inplace = True)"
      ],
      "execution_count": 63,
      "outputs": []
    },
    {
      "cell_type": "code",
      "metadata": {
        "id": "pKk4Go3a1u8e"
      },
      "source": [
        "col = ['Item_Fat_Content', 'Item_Type', 'Outlet_Size', 'Outlet_Location_Type', 'Outlet_Type']\n",
        "train_datar = pd.get_dummies(train_data, columns = col, drop_first = True)\n",
        "test_datar = pd.get_dummies(test_data, columns = col,drop_first = True)\n",
        "feat_cols = ['Item_Weight', 'Item_Visibility', 'Item_MRP', 'num_years',\n",
        "       'Item_Fat_Content_Regular', 'Item_Type_Breads', 'Item_Type_Breakfast',\n",
        "       'Item_Type_Canned', 'Item_Type_Dairy', 'Item_Type_Frozen Foods',\n",
        "       'Item_Type_Fruits and Vegetables', 'Item_Type_Hard Drinks',\n",
        "       'Item_Type_Health and Hygiene', 'Item_Type_Household', 'Item_Type_Meat',\n",
        "       'Item_Type_Others', 'Item_Type_Seafood', 'Item_Type_Snack Foods',\n",
        "       'Item_Type_Soft Drinks', 'Item_Type_Starchy Foods',\n",
        "       'Outlet_Size_Medium', 'Outlet_Size_Small',\n",
        "       'Outlet_Location_Type_Tier 2', 'Outlet_Location_Type_Tier 3',\n",
        "       'Outlet_Type_Supermarket Type1', 'Outlet_Type_Supermarket Type2',\n",
        "       'Outlet_Type_Supermarket Type3']"
      ],
      "execution_count": 64,
      "outputs": []
    },
    {
      "cell_type": "code",
      "metadata": {
        "id": "Uc3BVjw-1xk-"
      },
      "source": [
        "X = train_datar[feat_cols]\n",
        "y = train_datar['Item_Outlet_Sales']"
      ],
      "execution_count": 65,
      "outputs": []
    },
    {
      "cell_type": "code",
      "metadata": {
        "id": "cCXZrFhJ1z3s"
      },
      "source": [
        "from sklearn.model_selection import train_test_split\n",
        "X_train, X_test, y_train, y_test = train_test_split(X, y, test_size = 0.2,random_state = 0)"
      ],
      "execution_count": 66,
      "outputs": []
    },
    {
      "cell_type": "code",
      "metadata": {
        "id": "tPkDoGOP18Xj",
        "outputId": "c285994f-5aff-45c8-fe7f-ef308fed2426",
        "colab": {
          "base_uri": "https://localhost:8080/"
        }
      },
      "source": [
        "from xgboost.sklearn import XGBRegressor\n",
        "XGB = XGBRegressor()\n",
        "XGB.fit(X_train, y_train)\n",
        "y_pred = XGB.predict(X_test)"
      ],
      "execution_count": 67,
      "outputs": [
        {
          "output_type": "stream",
          "text": [
            "[07:10:48] WARNING: /workspace/src/objective/regression_obj.cu:152: reg:linear is now deprecated in favor of reg:squarederror.\n"
          ],
          "name": "stdout"
        }
      ]
    },
    {
      "cell_type": "code",
      "metadata": {
        "id": "iWxnTvyR18wB",
        "outputId": "5d61fecc-8157-468d-a59d-ff650e7f4ea8",
        "colab": {
          "base_uri": "https://localhost:8080/"
        }
      },
      "source": [
        "from sklearn.metrics import mean_squared_error\n",
        "from math import sqrt\n",
        "rmse = sqrt(mean_squared_error(y_test, y_pred))\n",
        "print(rmse)"
      ],
      "execution_count": 69,
      "outputs": [
        {
          "output_type": "stream",
          "text": [
            "1098.2495755279024\n"
          ],
          "name": "stdout"
        }
      ]
    },
    {
      "cell_type": "code",
      "metadata": {
        "id": "Efy5mTt31-dN",
        "outputId": "ee08a43e-cbdd-499b-cb76-7e8510c31295",
        "colab": {
          "base_uri": "https://localhost:8080/"
        }
      },
      "source": [
        "X_t = test_datar[feat_cols]\n",
        "y_result = XGB.predict(X_t)\n",
        "print(y_result)"
      ],
      "execution_count": 71,
      "outputs": [
        {
          "output_type": "stream",
          "text": [
            "[1589.1945 1411.1958 1019.7632 ... 1862.6682 4009.5142 1298.3594]\n"
          ],
          "name": "stdout"
        }
      ]
    },
    {
      "cell_type": "code",
      "metadata": {
        "id": "oY3eEx5B2EES",
        "outputId": "6e0fc248-528f-4b9c-d2dd-ec3fe516afa1",
        "colab": {
          "base_uri": "https://localhost:8080/"
        }
      },
      "source": [
        "result = pd.DataFrame()\n",
        "result['Item_Identifier'] = test_datar['Item_Identifier']\n",
        "result['Outlet_Identifier'] = test_datar['Outlet_Identifier']\n",
        "\n",
        "result[\"Item_Outlet_Sales\"] = y_result\n",
        "result = result.sort_index()\n",
        "result.to_csv('Bigmart_XGBoost3.csv',index = False)\n",
        "print(result)"
      ],
      "execution_count": 72,
      "outputs": [
        {
          "output_type": "stream",
          "text": [
            "     Item_Identifier Outlet_Identifier  Item_Outlet_Sales\n",
            "0              FDW58            OUT049        1589.194458\n",
            "1              FDW14            OUT017        1411.195801\n",
            "2              NCN55            OUT010        1019.763184\n",
            "3              FDQ58            OUT017        2512.541992\n",
            "4              FDY38            OUT027        5599.582031\n",
            "...              ...               ...                ...\n",
            "5676           FDB58            OUT046        2060.083252\n",
            "5677           FDD47            OUT018        2424.532227\n",
            "5678           NCO17            OUT045        1862.668213\n",
            "5679           FDJ26            OUT017        4009.514160\n",
            "5680           FDU37            OUT045        1298.359375\n",
            "\n",
            "[5681 rows x 3 columns]\n"
          ],
          "name": "stdout"
        }
      ]
    },
    {
      "cell_type": "code",
      "metadata": {
        "id": "wDcm-63R2Jg3"
      },
      "source": [
        ""
      ],
      "execution_count": null,
      "outputs": []
    }
  ]
}