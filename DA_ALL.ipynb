{
  "nbformat": 4,
  "nbformat_minor": 0,
  "metadata": {
    "colab": {
      "name": "DA_ALL.ipynb",
      "provenance": [],
      "authorship_tag": "ABX9TyNK5CHoBs7NH+TxxQQWJOcf",
      "include_colab_link": true
    },
    "kernelspec": {
      "name": "python3",
      "display_name": "Python 3"
    }
  },
  "cells": [
    {
      "cell_type": "markdown",
      "metadata": {
        "id": "view-in-github",
        "colab_type": "text"
      },
      "source": [
        "<a href=\"https://colab.research.google.com/github/Sakshi-7699/Machine-Learning-Projects/blob/master/DA_ALL.ipynb\" target=\"_parent\"><img src=\"https://colab.research.google.com/assets/colab-badge.svg\" alt=\"Open In Colab\"/></a>"
      ]
    },
    {
      "cell_type": "markdown",
      "metadata": {
        "id": "ABWJzGc_gmoC"
      },
      "source": [
        "\n",
        "# **ASSIGNMENT 1**\n",
        "\n",
        "\n",
        "Download the Iris flower dataset or any other dataset into a DataFrame. (eg https://archive.ics.uci.edu/ml/datasets/Iris ) Use Python/R and Perform following –\n",
        "\n",
        "*  How many features are there and what are their types (e.g., numeric, nominal)?\n",
        "*   Compute and display summary statistics for each feature available in the dataset.(eg. minimum value, maximum value, mean, range, standard deviation, variance and percentiles\n",
        "\n",
        "\n",
        "*   Data Visualization-Create a histogram for each feature in the dataset to illustrate the\n",
        "feature distributions. Plot each histogram.\n",
        "*   Create a boxplot for each feature in the dataset. All of the boxplots should be combined into a single plot. Compare distributions and identify outliers."
      ]
    },
    {
      "cell_type": "markdown",
      "metadata": {
        "id": "_Qi6Qhqx9TlD"
      },
      "source": [
        "\n",
        "**ATRRIBUTE TYPES**\n",
        "\n",
        "\n",
        "![image.png](data:image/png;base64,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)\n",
        "\n",
        "1. Nominal Attributes – related to names : categorical attributes\n",
        "2. Binary Attributes :\n",
        "  i) Symmetric : Both values are equally important (Gender).\n",
        "  ii) Asymmetric : Both values are not equally important (Result).\n",
        "3. Ordinal Attributes : ranking(order) \n",
        "4. Numeric : integer or real values.\n",
        "  i) An interval-scaled attribute has values, whose differences are interpretable, but the numerical attributes do not have the correct reference point or we can call zero point.\n",
        "  ii) A ratio-scaled attribute is a numeric attribute with an fix zero-point. \n",
        "5. Discrete :  finite values\n",
        "6. Continuous :  infinite no of states"
      ]
    },
    {
      "cell_type": "code",
      "metadata": {
        "id": "4sMP6yCYgjF0"
      },
      "source": [
        "import pandas as pd\n",
        "import numpy as np\n",
        "from matplotlib import pyplot as plt"
      ],
      "execution_count": 7,
      "outputs": []
    },
    {
      "cell_type": "code",
      "metadata": {
        "id": "KtTH0jHyiHNX",
        "outputId": "60d44e84-67ea-41a8-b418-cfd834028d15",
        "colab": {
          "base_uri": "https://localhost:8080/",
          "height": 198
        }
      },
      "source": [
        "df = pd.read_csv('/content/Iris.csv')\n",
        "df.head()"
      ],
      "execution_count": 8,
      "outputs": [
        {
          "output_type": "execute_result",
          "data": {
            "text/html": [
              "<div>\n",
              "<style scoped>\n",
              "    .dataframe tbody tr th:only-of-type {\n",
              "        vertical-align: middle;\n",
              "    }\n",
              "\n",
              "    .dataframe tbody tr th {\n",
              "        vertical-align: top;\n",
              "    }\n",
              "\n",
              "    .dataframe thead th {\n",
              "        text-align: right;\n",
              "    }\n",
              "</style>\n",
              "<table border=\"1\" class=\"dataframe\">\n",
              "  <thead>\n",
              "    <tr style=\"text-align: right;\">\n",
              "      <th></th>\n",
              "      <th>Id</th>\n",
              "      <th>SepalLengthCm</th>\n",
              "      <th>SepalWidthCm</th>\n",
              "      <th>PetalLengthCm</th>\n",
              "      <th>PetalWidthCm</th>\n",
              "      <th>Species</th>\n",
              "    </tr>\n",
              "  </thead>\n",
              "  <tbody>\n",
              "    <tr>\n",
              "      <th>0</th>\n",
              "      <td>1</td>\n",
              "      <td>5.1</td>\n",
              "      <td>3.5</td>\n",
              "      <td>1.4</td>\n",
              "      <td>0.2</td>\n",
              "      <td>Iris-setosa</td>\n",
              "    </tr>\n",
              "    <tr>\n",
              "      <th>1</th>\n",
              "      <td>2</td>\n",
              "      <td>4.9</td>\n",
              "      <td>3.0</td>\n",
              "      <td>1.4</td>\n",
              "      <td>0.2</td>\n",
              "      <td>Iris-setosa</td>\n",
              "    </tr>\n",
              "    <tr>\n",
              "      <th>2</th>\n",
              "      <td>3</td>\n",
              "      <td>4.7</td>\n",
              "      <td>3.2</td>\n",
              "      <td>1.3</td>\n",
              "      <td>0.2</td>\n",
              "      <td>Iris-setosa</td>\n",
              "    </tr>\n",
              "    <tr>\n",
              "      <th>3</th>\n",
              "      <td>4</td>\n",
              "      <td>4.6</td>\n",
              "      <td>3.1</td>\n",
              "      <td>1.5</td>\n",
              "      <td>0.2</td>\n",
              "      <td>Iris-setosa</td>\n",
              "    </tr>\n",
              "    <tr>\n",
              "      <th>4</th>\n",
              "      <td>5</td>\n",
              "      <td>5.0</td>\n",
              "      <td>3.6</td>\n",
              "      <td>1.4</td>\n",
              "      <td>0.2</td>\n",
              "      <td>Iris-setosa</td>\n",
              "    </tr>\n",
              "  </tbody>\n",
              "</table>\n",
              "</div>"
            ],
            "text/plain": [
              "   Id  SepalLengthCm  SepalWidthCm  PetalLengthCm  PetalWidthCm      Species\n",
              "0   1            5.1           3.5            1.4           0.2  Iris-setosa\n",
              "1   2            4.9           3.0            1.4           0.2  Iris-setosa\n",
              "2   3            4.7           3.2            1.3           0.2  Iris-setosa\n",
              "3   4            4.6           3.1            1.5           0.2  Iris-setosa\n",
              "4   5            5.0           3.6            1.4           0.2  Iris-setosa"
            ]
          },
          "metadata": {
            "tags": []
          },
          "execution_count": 8
        }
      ]
    },
    {
      "cell_type": "code",
      "metadata": {
        "id": "06-qfWaqiwd6",
        "outputId": "8eb75f06-f2ae-4c98-b4b0-54d46227631c",
        "colab": {
          "base_uri": "https://localhost:8080/"
        }
      },
      "source": [
        "print(\"Shape : \",df.shape)"
      ],
      "execution_count": 9,
      "outputs": [
        {
          "output_type": "stream",
          "text": [
            "Shape :  (150, 6)\n"
          ],
          "name": "stdout"
        }
      ]
    },
    {
      "cell_type": "code",
      "metadata": {
        "id": "ok2v1PYFi1Tu",
        "outputId": "528bdadc-2720-4bb2-e520-891861a9e1b0",
        "colab": {
          "base_uri": "https://localhost:8080/",
          "height": 288
        }
      },
      "source": [
        "#df.info()\n",
        "#df.summary()\n",
        "df.describe()"
      ],
      "execution_count": 10,
      "outputs": [
        {
          "output_type": "execute_result",
          "data": {
            "text/html": [
              "<div>\n",
              "<style scoped>\n",
              "    .dataframe tbody tr th:only-of-type {\n",
              "        vertical-align: middle;\n",
              "    }\n",
              "\n",
              "    .dataframe tbody tr th {\n",
              "        vertical-align: top;\n",
              "    }\n",
              "\n",
              "    .dataframe thead th {\n",
              "        text-align: right;\n",
              "    }\n",
              "</style>\n",
              "<table border=\"1\" class=\"dataframe\">\n",
              "  <thead>\n",
              "    <tr style=\"text-align: right;\">\n",
              "      <th></th>\n",
              "      <th>Id</th>\n",
              "      <th>SepalLengthCm</th>\n",
              "      <th>SepalWidthCm</th>\n",
              "      <th>PetalLengthCm</th>\n",
              "      <th>PetalWidthCm</th>\n",
              "    </tr>\n",
              "  </thead>\n",
              "  <tbody>\n",
              "    <tr>\n",
              "      <th>count</th>\n",
              "      <td>150.000000</td>\n",
              "      <td>150.000000</td>\n",
              "      <td>150.000000</td>\n",
              "      <td>150.000000</td>\n",
              "      <td>150.000000</td>\n",
              "    </tr>\n",
              "    <tr>\n",
              "      <th>mean</th>\n",
              "      <td>75.500000</td>\n",
              "      <td>5.843333</td>\n",
              "      <td>3.054000</td>\n",
              "      <td>3.758667</td>\n",
              "      <td>1.198667</td>\n",
              "    </tr>\n",
              "    <tr>\n",
              "      <th>std</th>\n",
              "      <td>43.445368</td>\n",
              "      <td>0.828066</td>\n",
              "      <td>0.433594</td>\n",
              "      <td>1.764420</td>\n",
              "      <td>0.763161</td>\n",
              "    </tr>\n",
              "    <tr>\n",
              "      <th>min</th>\n",
              "      <td>1.000000</td>\n",
              "      <td>4.300000</td>\n",
              "      <td>2.000000</td>\n",
              "      <td>1.000000</td>\n",
              "      <td>0.100000</td>\n",
              "    </tr>\n",
              "    <tr>\n",
              "      <th>25%</th>\n",
              "      <td>38.250000</td>\n",
              "      <td>5.100000</td>\n",
              "      <td>2.800000</td>\n",
              "      <td>1.600000</td>\n",
              "      <td>0.300000</td>\n",
              "    </tr>\n",
              "    <tr>\n",
              "      <th>50%</th>\n",
              "      <td>75.500000</td>\n",
              "      <td>5.800000</td>\n",
              "      <td>3.000000</td>\n",
              "      <td>4.350000</td>\n",
              "      <td>1.300000</td>\n",
              "    </tr>\n",
              "    <tr>\n",
              "      <th>75%</th>\n",
              "      <td>112.750000</td>\n",
              "      <td>6.400000</td>\n",
              "      <td>3.300000</td>\n",
              "      <td>5.100000</td>\n",
              "      <td>1.800000</td>\n",
              "    </tr>\n",
              "    <tr>\n",
              "      <th>max</th>\n",
              "      <td>150.000000</td>\n",
              "      <td>7.900000</td>\n",
              "      <td>4.400000</td>\n",
              "      <td>6.900000</td>\n",
              "      <td>2.500000</td>\n",
              "    </tr>\n",
              "  </tbody>\n",
              "</table>\n",
              "</div>"
            ],
            "text/plain": [
              "               Id  SepalLengthCm  SepalWidthCm  PetalLengthCm  PetalWidthCm\n",
              "count  150.000000     150.000000    150.000000     150.000000    150.000000\n",
              "mean    75.500000       5.843333      3.054000       3.758667      1.198667\n",
              "std     43.445368       0.828066      0.433594       1.764420      0.763161\n",
              "min      1.000000       4.300000      2.000000       1.000000      0.100000\n",
              "25%     38.250000       5.100000      2.800000       1.600000      0.300000\n",
              "50%     75.500000       5.800000      3.000000       4.350000      1.300000\n",
              "75%    112.750000       6.400000      3.300000       5.100000      1.800000\n",
              "max    150.000000       7.900000      4.400000       6.900000      2.500000"
            ]
          },
          "metadata": {
            "tags": []
          },
          "execution_count": 10
        }
      ]
    },
    {
      "cell_type": "markdown",
      "metadata": {
        "id": "KfSyzcZu_Ws1"
      },
      "source": [
        ""
      ]
    },
    {
      "cell_type": "code",
      "metadata": {
        "id": "rsjqqWsWk5sJ",
        "outputId": "72ca659a-27a4-4100-e45f-724eabb89274",
        "colab": {
          "base_uri": "https://localhost:8080/"
        }
      },
      "source": [
        "df.dtypes"
      ],
      "execution_count": 11,
      "outputs": [
        {
          "output_type": "execute_result",
          "data": {
            "text/plain": [
              "Id                 int64\n",
              "SepalLengthCm    float64\n",
              "SepalWidthCm     float64\n",
              "PetalLengthCm    float64\n",
              "PetalWidthCm     float64\n",
              "Species           object\n",
              "dtype: object"
            ]
          },
          "metadata": {
            "tags": []
          },
          "execution_count": 11
        }
      ]
    },
    {
      "cell_type": "code",
      "metadata": {
        "id": "vI0NwIlbldd_",
        "outputId": "f158f179-1293-4b01-9140-04238cbcac4d",
        "colab": {
          "base_uri": "https://localhost:8080/"
        }
      },
      "source": [
        "df.shape"
      ],
      "execution_count": 12,
      "outputs": [
        {
          "output_type": "execute_result",
          "data": {
            "text/plain": [
              "(150, 6)"
            ]
          },
          "metadata": {
            "tags": []
          },
          "execution_count": 12
        }
      ]
    },
    {
      "cell_type": "code",
      "metadata": {
        "id": "PDcTKdV8ljs9",
        "outputId": "30a551e5-250b-4bd2-d1f7-00fc69422388",
        "colab": {
          "base_uri": "https://localhost:8080/",
          "height": 295
        }
      },
      "source": [
        "data = df['SepalLengthCm'] \n",
        "\n",
        "plt.hist(data, bins = 20, color = 'blue',edgecolor='black') \n",
        "plt.title('Sepal Length in cm') \n",
        "plt.xlabel('Sepal Length cm') \n",
        "plt.ylabel('Count') \n",
        "plt.show()\n"
      ],
      "execution_count": 13,
      "outputs": [
        {
          "output_type": "display_data",
          "data": {
            "image/png": "[encoded data removed]",
            "text/plain": [
              "<Figure size 432x288 with 1 Axes>"
            ]
          },
          "metadata": {
            "tags": [],
            "needs_background": "light"
          }
        }
      ]
    },
    {
      "cell_type": "code",
      "metadata": {
        "id": "OM0b23RguOep",
        "outputId": "dcc25255-e48e-46de-dbdb-17223d73c351",
        "colab": {
          "base_uri": "https://localhost:8080/",
          "height": 295
        }
      },
      "source": [
        "data = df['SepalWidthCm'] \n",
        "\n",
        "plt.hist(data, bins = 20, color = 'yellow',edgecolor='black') \n",
        "plt.title('Sepal Width in cm') \n",
        "plt.xlabel('Sepal Width cm') \n",
        "plt.ylabel('Count') \n",
        "plt.show()\n",
        " "
      ],
      "execution_count": 14,
      "outputs": [
        {
          "output_type": "display_data",
          "data": {
            "image/png": "[encoded data removed]",
            "text/plain": [
              "<Figure size 432x288 with 1 Axes>"
            ]
          },
          "metadata": {
            "tags": [],
            "needs_background": "light"
          }
        }
      ]
    },
    {
      "cell_type": "code",
      "metadata": {
        "id": "X6IsyV-SuctP",
        "outputId": "c042442b-d9ef-4e62-bbc5-15d87f303291",
        "colab": {
          "base_uri": "https://localhost:8080/",
          "height": 295
        }
      },
      "source": [
        "data = df['PetalLengthCm'] \n",
        "\n",
        "plt.hist(data, bins = 20, color = 'red',edgecolor='black') \n",
        "plt.title('Petal Length in Cm') \n",
        "plt.xlabel('Petal Length Cm') \n",
        "plt.ylabel('Count') \n",
        "plt.show()"
      ],
      "execution_count": 15,
      "outputs": [
        {
          "output_type": "display_data",
          "data": {
            "image/png": "[encoded data removed]",
            "text/plain": [
              "<Figure size 432x288 with 1 Axes>"
            ]
          },
          "metadata": {
            "tags": [],
            "needs_background": "light"
          }
        }
      ]
    },
    {
      "cell_type": "code",
      "metadata": {
        "id": "id20cY2aueYs",
        "outputId": "e6159c7c-2775-44c9-b04a-897494e6cea7",
        "colab": {
          "base_uri": "https://localhost:8080/",
          "height": 295
        }
      },
      "source": [
        "data = df['PetalWidthCm'] \n",
        "\n",
        "plt.hist(data, bins = 20, color = 'pink',edgecolor='black') \n",
        "plt.title('Petal Width in Cm') \n",
        "plt.xlabel('Petal Width Cm') \n",
        "plt.ylabel('Count') \n",
        "plt.show()\n"
      ],
      "execution_count": 16,
      "outputs": [
        {
          "output_type": "display_data",
          "data": {
            "image/png": "[encoded data removed]",
            "text/plain": [
              "<Figure size 432x288 with 1 Axes>"
            ]
          },
          "metadata": {
            "tags": [],
            "needs_background": "light"
          }
        }
      ]
    },
    {
      "cell_type": "code",
      "metadata": {
        "id": "PtX6XID7ugOP",
        "outputId": "3b800440-ee6d-4b80-c986-cde36b0cf206",
        "colab": {
          "base_uri": "https://localhost:8080/",
          "height": 295
        }
      },
      "source": [
        "data = df['Species'] \n",
        "\n",
        "plt.hist(data, bins = 20, color = 'cyan',edgecolor='black') \n",
        "plt.title('Species') \n",
        "plt.xlabel('Species') \n",
        "plt.ylabel('Count') \n",
        "plt.show()"
      ],
      "execution_count": 17,
      "outputs": [
        {
          "output_type": "display_data",
          "data": {
            "image/png": "[encoded data removed]",
            "text/plain": [
              "<Figure size 432x288 with 1 Axes>"
            ]
          },
          "metadata": {
            "tags": [],
            "needs_background": "light"
          }
        }
      ]
    },
    {
      "cell_type": "code",
      "metadata": {
        "id": "rqLPSgs5uiwR",
        "outputId": "a55d84d3-4456-4ddf-b641-bb35e8f04364",
        "colab": {
          "base_uri": "https://localhost:8080/",
          "height": 281
        }
      },
      "source": [
        "data_frame2=df[['SepalLengthCm', 'SepalWidthCm', 'PetalLengthCm', 'PetalWidthCm']]\n",
        "data_frame2.plot.box(title='All Features with outliers')\n",
        "plt.show()"
      ],
      "execution_count": 18,
      "outputs": [
        {
          "output_type": "display_data",
          "data": {
            "image/png": "[encoded data removed]",
            "text/plain": [
              "<Figure size 432x288 with 1 Axes>"
            ]
          },
          "metadata": {
            "tags": [],
            "needs_background": "light"
          }
        }
      ]
    },
    {
      "cell_type": "markdown",
      "metadata": {
        "id": "OsTkEJMfxJJB"
      },
      "source": [
        "# **ASSIGNMENT 2**\n",
        "\n",
        "\n",
        "Download Pima Indians Diabetes dataset. Use Naive Bayes‟ Algorithm for classification\n",
        "\n",
        "\n",
        "\n",
        "*   Load the data from CSV file and split it into training and test datasets.\n",
        "*   summarize the properties in the training dataset so that we can calculate\n",
        "probabilities and make predictions.\n",
        "*   Classify samples from a test dataset and a summarized training dataset\n",
        "\n",
        "\n"
      ]
    },
    {
      "cell_type": "markdown",
      "metadata": {
        "id": "xfcTY5aEA0Jg"
      },
      "source": [
        "### [Naive Bayes Algorithm ](https://www.geeksforgeeks.org/naive-bayes-classifiers/)"
      ]
    },
    {
      "cell_type": "code",
      "metadata": {
        "id": "v2tl4cD_xd12"
      },
      "source": [
        "import pandas as pd\n",
        "import numpy as np\n",
        "import matplotlib.pyplot as plt"
      ],
      "execution_count": 19,
      "outputs": []
    },
    {
      "cell_type": "code",
      "metadata": {
        "id": "z1p001fDxzMK"
      },
      "source": [
        "df = pd.read_csv('/content/diabetes.csv')"
      ],
      "execution_count": 20,
      "outputs": []
    },
    {
      "cell_type": "code",
      "metadata": {
        "id": "g_c5WJHAyF9h",
        "outputId": "80c0f0ac-3b48-4a5f-da61-389a21c710fc",
        "colab": {
          "base_uri": "https://localhost:8080/",
          "height": 198
        }
      },
      "source": [
        "df.head()"
      ],
      "execution_count": 21,
      "outputs": [
        {
          "output_type": "execute_result",
          "data": {
            "text/html": [
              "<div>\n",
              "<style scoped>\n",
              "    .dataframe tbody tr th:only-of-type {\n",
              "        vertical-align: middle;\n",
              "    }\n",
              "\n",
              "    .dataframe tbody tr th {\n",
              "        vertical-align: top;\n",
              "    }\n",
              "\n",
              "    .dataframe thead th {\n",
              "        text-align: right;\n",
              "    }\n",
              "</style>\n",
              "<table border=\"1\" class=\"dataframe\">\n",
              "  <thead>\n",
              "    <tr style=\"text-align: right;\">\n",
              "      <th></th>\n",
              "      <th>Pregnancies</th>\n",
              "      <th>Glucose</th>\n",
              "      <th>BloodPressure</th>\n",
              "      <th>SkinThickness</th>\n",
              "      <th>Insulin</th>\n",
              "      <th>BMI</th>\n",
              "      <th>DiabetesPedigreeFunction</th>\n",
              "      <th>Age</th>\n",
              "      <th>Outcome</th>\n",
              "    </tr>\n",
              "  </thead>\n",
              "  <tbody>\n",
              "    <tr>\n",
              "      <th>0</th>\n",
              "      <td>6</td>\n",
              "      <td>148</td>\n",
              "      <td>72</td>\n",
              "      <td>35</td>\n",
              "      <td>0</td>\n",
              "      <td>33.6</td>\n",
              "      <td>0.627</td>\n",
              "      <td>50</td>\n",
              "      <td>1</td>\n",
              "    </tr>\n",
              "    <tr>\n",
              "      <th>1</th>\n",
              "      <td>1</td>\n",
              "      <td>85</td>\n",
              "      <td>66</td>\n",
              "      <td>29</td>\n",
              "      <td>0</td>\n",
              "      <td>26.6</td>\n",
              "      <td>0.351</td>\n",
              "      <td>31</td>\n",
              "      <td>0</td>\n",
              "    </tr>\n",
              "    <tr>\n",
              "      <th>2</th>\n",
              "      <td>8</td>\n",
              "      <td>183</td>\n",
              "      <td>64</td>\n",
              "      <td>0</td>\n",
              "      <td>0</td>\n",
              "      <td>23.3</td>\n",
              "      <td>0.672</td>\n",
              "      <td>32</td>\n",
              "      <td>1</td>\n",
              "    </tr>\n",
              "    <tr>\n",
              "      <th>3</th>\n",
              "      <td>1</td>\n",
              "      <td>89</td>\n",
              "      <td>66</td>\n",
              "      <td>23</td>\n",
              "      <td>94</td>\n",
              "      <td>28.1</td>\n",
              "      <td>0.167</td>\n",
              "      <td>21</td>\n",
              "      <td>0</td>\n",
              "    </tr>\n",
              "    <tr>\n",
              "      <th>4</th>\n",
              "      <td>0</td>\n",
              "      <td>137</td>\n",
              "      <td>40</td>\n",
              "      <td>35</td>\n",
              "      <td>168</td>\n",
              "      <td>43.1</td>\n",
              "      <td>2.288</td>\n",
              "      <td>33</td>\n",
              "      <td>1</td>\n",
              "    </tr>\n",
              "  </tbody>\n",
              "</table>\n",
              "</div>"
            ],
            "text/plain": [
              "   Pregnancies  Glucose  BloodPressure  ...  DiabetesPedigreeFunction  Age  Outcome\n",
              "0            6      148             72  ...                     0.627   50        1\n",
              "1            1       85             66  ...                     0.351   31        0\n",
              "2            8      183             64  ...                     0.672   32        1\n",
              "3            1       89             66  ...                     0.167   21        0\n",
              "4            0      137             40  ...                     2.288   33        1\n",
              "\n",
              "[5 rows x 9 columns]"
            ]
          },
          "metadata": {
            "tags": []
          },
          "execution_count": 21
        }
      ]
    },
    {
      "cell_type": "code",
      "metadata": {
        "id": "1KybR_JqyJPU",
        "outputId": "c75be09e-4655-4eee-8436-766cb03eca66",
        "colab": {
          "base_uri": "https://localhost:8080/",
          "height": 281
        }
      },
      "source": [
        "df.hist()\n",
        "plt.show()"
      ],
      "execution_count": 22,
      "outputs": [
        {
          "output_type": "display_data",
          "data": {
            "image/png": "[encoded data removed]",
            "text/plain": [
              "<Figure size 432x288 with 9 Axes>"
            ]
          },
          "metadata": {
            "tags": [],
            "needs_background": "light"
          }
        }
      ]
    },
    {
      "cell_type": "code",
      "metadata": {
        "id": "o-TGRqq4yMF8"
      },
      "source": [
        "X = df.drop('Outcome',axis=1)\n",
        "y = df['Outcome']"
      ],
      "execution_count": 23,
      "outputs": []
    },
    {
      "cell_type": "code",
      "metadata": {
        "id": "cG46hCbzyc0g",
        "outputId": "c79e322e-4c52-4564-956d-133668f606e9",
        "colab": {
          "base_uri": "https://localhost:8080/"
        }
      },
      "source": [
        "X.isnull().any()"
      ],
      "execution_count": 24,
      "outputs": [
        {
          "output_type": "execute_result",
          "data": {
            "text/plain": [
              "Pregnancies                 False\n",
              "Glucose                     False\n",
              "BloodPressure               False\n",
              "SkinThickness               False\n",
              "Insulin                     False\n",
              "BMI                         False\n",
              "DiabetesPedigreeFunction    False\n",
              "Age                         False\n",
              "dtype: bool"
            ]
          },
          "metadata": {
            "tags": []
          },
          "execution_count": 24
        }
      ]
    },
    {
      "cell_type": "code",
      "metadata": {
        "id": "WVmvQysMynOO",
        "outputId": "4f09ad42-b81f-4971-ea02-80522c9ab977",
        "colab": {
          "base_uri": "https://localhost:8080/"
        }
      },
      "source": [
        "y.isnull().any()"
      ],
      "execution_count": 25,
      "outputs": [
        {
          "output_type": "execute_result",
          "data": {
            "text/plain": [
              "False"
            ]
          },
          "metadata": {
            "tags": []
          },
          "execution_count": 25
        }
      ]
    },
    {
      "cell_type": "markdown",
      "metadata": {
        "id": "PE8jh1p_BT8Z"
      },
      "source": [
        "\n",
        "\n",
        "*   When random_state set to an integer, train_test_split will return same results for each execution. when random_state set to an None, train_test_split will return different results for each execution\n",
        "*   The random_state parameter is used for initializing the internal random number generator, which will decide the splitting of data into train and test indices\n",
        "\n"
      ]
    },
    {
      "cell_type": "code",
      "metadata": {
        "id": "6-qZjNuLyqDI"
      },
      "source": [
        "#split the X and y into test and train\n",
        "from sklearn.model_selection import train_test_split\n",
        "X_train, X_test, y_train, y_test = train_test_split(X,y,test_size=0.3,random_state=1)"
      ],
      "execution_count": 26,
      "outputs": []
    },
    {
      "cell_type": "markdown",
      "metadata": {
        "id": "HpyG_ZxICVrK"
      },
      "source": [
        "Feature scaling is a method used to normalize the range of independent variables or features of data. In data processing, it is also known as data normalization and is generally performed during the data preprocessing step\n",
        "Below are the few ways we can do feature scaling.\n",
        "\n",
        "\n",
        "*   Min Max Scaler.\n",
        "*   Standard Scaler.\n",
        "\n",
        "*  Max Abs Scaler.\n",
        "*  Unit Vector Scaler.\n",
        "\n",
        "\n",
        "Also known as min-max scaling or min-max normalization, is the simplest method and consists in rescaling the range of features to scale the range in [0, 1] or [−1, 1]. Selecting the target range depends on the nature of the data."
      ]
    },
    {
      "cell_type": "code",
      "metadata": {
        "id": "xyZ_Yk1-ytqV"
      },
      "source": [
        "#scaling\n",
        "from sklearn.preprocessing import MinMaxScaler\n",
        "scaler_X = MinMaxScaler()\n",
        "X_train = scaler_X.fit_transform(X_train)\n",
        "X_test = scaler_X.transform(X_test)"
      ],
      "execution_count": 27,
      "outputs": []
    },
    {
      "cell_type": "code",
      "metadata": {
        "id": "fRk2suMdyvXm"
      },
      "source": [
        "#define the model, Naive Bayes\n",
        "from sklearn.naive_bayes import GaussianNB\n",
        "model = GaussianNB()\n"
      ],
      "execution_count": 28,
      "outputs": []
    },
    {
      "cell_type": "code",
      "metadata": {
        "id": "5_F3MiVmyzKY"
      },
      "source": [
        "#train the model on training values\n",
        "model.fit(X_train, y_train)\n",
        "\n",
        "#perform predictions on test values\n",
        "y_pred=model.predict(X_test)"
      ],
      "execution_count": 29,
      "outputs": []
    },
    {
      "cell_type": "code",
      "metadata": {
        "id": "v1dR7beky1-5",
        "outputId": "8f53f8b5-58f7-4270-8696-c2745b67d2ac",
        "colab": {
          "base_uri": "https://localhost:8080/"
        }
      },
      "source": [
        "#determine accuracy of the model\n",
        "from sklearn.metrics import accuracy_score\n",
        "accuracy=accuracy_score(y_test, y_pred, normalize=True)\n",
        "print(\"Accuracy of the Naive Bayes model: \",accuracy)"
      ],
      "execution_count": 30,
      "outputs": [
        {
          "output_type": "stream",
          "text": [
            "Accuracy of the Naive Bayes model:  0.7835497835497836\n"
          ],
          "name": "stdout"
        }
      ]
    },
    {
      "cell_type": "code",
      "metadata": {
        "id": "Wc4tInxry39C",
        "outputId": "9bb09da7-e12d-44bc-f396-6928cf1e20fa",
        "colab": {
          "base_uri": "https://localhost:8080/"
        }
      },
      "source": [
        "from sklearn.metrics import confusion_matrix\n",
        "cf = confusion_matrix(y_test, y_pred)\n",
        "print(\"Confusion matrix: \",cf)"
      ],
      "execution_count": 31,
      "outputs": [
        {
          "output_type": "stream",
          "text": [
            "Confusion matrix:  [[128  18]\n",
            " [ 32  53]]\n"
          ],
          "name": "stdout"
        }
      ]
    },
    {
      "cell_type": "code",
      "metadata": {
        "id": "5pXduN8ly5zu",
        "outputId": "7c2f407b-207d-498c-c440-27d64e4d9d04",
        "colab": {
          "base_uri": "https://localhost:8080/"
        }
      },
      "source": [
        "#user input\n",
        "pred=[[6,148,72,35,0,33.6,0.627,50]]\n",
        "y_pred1=model.predict(pred)\n",
        "print(\"user ip prediction: \",y_pred1)"
      ],
      "execution_count": 32,
      "outputs": [
        {
          "output_type": "stream",
          "text": [
            "user ip prediction:  [1]\n"
          ],
          "name": "stdout"
        }
      ]
    },
    {
      "cell_type": "markdown",
      "metadata": {
        "id": "e7rECbRV0tYC"
      },
      "source": [
        "# **ASSIGNMENT 3**\n",
        "\n",
        "Bigmart Sales Analysis: For data comprising of transaction records of a sales store. The data\n",
        "has 8523 rows of 12 variables. Predict the sales of a store. Sample Test data set available\n",
        "here https://datahack.analyticsvidhya.com/contest/practice-problem-big-mart-sales-iii/"
      ]
    },
    {
      "cell_type": "code",
      "metadata": {
        "id": "-ZpqeC-v1P2d"
      },
      "source": [
        "import numpy as np # linear algebra\n",
        "import pandas as pd # data processing, CSV file I/O (e.g. pd.read_csv)\n",
        "import matplotlib.pyplot as plt\n",
        "import seaborn as sns\n",
        "%matplotlib inline"
      ],
      "execution_count": 33,
      "outputs": []
    },
    {
      "cell_type": "code",
      "metadata": {
        "id": "A6e5Enou1UCa",
        "outputId": "dadda7ef-1565-4642-9ad5-4ee148d77518",
        "colab": {
          "base_uri": "https://localhost:8080/"
        }
      },
      "source": [
        "train_data=pd.read_csv(\"/content/Train.csv\")\n",
        "test_data=pd.read_csv(\"/content/Test.csv\")\n",
        "print(train_data.shape)\n",
        "print(test_data.shape)"
      ],
      "execution_count": 34,
      "outputs": [
        {
          "output_type": "stream",
          "text": [
            "(8523, 12)\n",
            "(5681, 11)\n"
          ],
          "name": "stdout"
        }
      ]
    },
    {
      "cell_type": "code",
      "metadata": {
        "id": "a4rhtw851cqn"
      },
      "source": [
        "train_data['source']='train'\n",
        "test_data['source']='test'\n",
        "data=pd.concat([train_data,test_data],ignore_index=True)"
      ],
      "execution_count": 35,
      "outputs": []
    },
    {
      "cell_type": "code",
      "metadata": {
        "id": "hny-NqmT1fA0",
        "outputId": "621d6678-98ac-4ec4-e93f-32ff51e53d78",
        "colab": {
          "base_uri": "https://localhost:8080/"
        }
      },
      "source": [
        "print(train_data.shape)\n",
        "print(train_data.head)\n",
        "train_data.dtypes"
      ],
      "execution_count": 36,
      "outputs": [
        {
          "output_type": "stream",
          "text": [
            "(8523, 13)\n",
            "<bound method NDFrame.head of      Item_Identifier  Item_Weight  ... Item_Outlet_Sales  source\n",
            "0              FDA15        9.300  ...         3735.1380   train\n",
            "1              DRC01        5.920  ...          443.4228   train\n",
            "2              FDN15       17.500  ...         2097.2700   train\n",
            "3              FDX07       19.200  ...          732.3800   train\n",
            "4              NCD19        8.930  ...          994.7052   train\n",
            "...              ...          ...  ...               ...     ...\n",
            "8518           FDF22        6.865  ...         2778.3834   train\n",
            "8519           FDS36        8.380  ...          549.2850   train\n",
            "8520           NCJ29       10.600  ...         1193.1136   train\n",
            "8521           FDN46        7.210  ...         1845.5976   train\n",
            "8522           DRG01       14.800  ...          765.6700   train\n",
            "\n",
            "[8523 rows x 13 columns]>\n"
          ],
          "name": "stdout"
        },
        {
          "output_type": "execute_result",
          "data": {
            "text/plain": [
              "Item_Identifier               object\n",
              "Item_Weight                  float64\n",
              "Item_Fat_Content              object\n",
              "Item_Visibility              float64\n",
              "Item_Type                     object\n",
              "Item_MRP                     float64\n",
              "Outlet_Identifier             object\n",
              "Outlet_Establishment_Year      int64\n",
              "Outlet_Size                   object\n",
              "Outlet_Location_Type          object\n",
              "Outlet_Type                   object\n",
              "Item_Outlet_Sales            float64\n",
              "source                        object\n",
              "dtype: object"
            ]
          },
          "metadata": {
            "tags": []
          },
          "execution_count": 36
        }
      ]
    },
    {
      "cell_type": "code",
      "metadata": {
        "id": "uAIX_sJD1g8Q",
        "outputId": "82710d47-3ab7-46d1-92a1-6c627952bc95",
        "colab": {
          "base_uri": "https://localhost:8080/"
        }
      },
      "source": [
        "test_data.apply(lambda x: sum(x.isnull()))"
      ],
      "execution_count": 37,
      "outputs": [
        {
          "output_type": "execute_result",
          "data": {
            "text/plain": [
              "Item_Identifier                 0\n",
              "Item_Weight                   976\n",
              "Item_Fat_Content                0\n",
              "Item_Visibility                 0\n",
              "Item_Type                       0\n",
              "Item_MRP                        0\n",
              "Outlet_Identifier               0\n",
              "Outlet_Establishment_Year       0\n",
              "Outlet_Size                  1606\n",
              "Outlet_Location_Type            0\n",
              "Outlet_Type                     0\n",
              "source                          0\n",
              "dtype: int64"
            ]
          },
          "metadata": {
            "tags": []
          },
          "execution_count": 37
        }
      ]
    },
    {
      "cell_type": "code",
      "metadata": {
        "id": "dpATXFm31jFY"
      },
      "source": [
        "test_data['Item_Fat_Content'].unique()\n",
        "train_data['Item_Fat_Content'].replace(['low fat','LF','reg'],['Low Fat','Low Fat','Regular'],inplace = True)\n",
        "test_data['Item_Fat_Content'].replace(['low fat','LF','reg'],['Low Fat','Low Fat','Regular'],inplace = True)"
      ],
      "execution_count": 38,
      "outputs": []
    },
    {
      "cell_type": "code",
      "metadata": {
        "id": "mW62szLw1lsk"
      },
      "source": [
        "train_data['num_years'] = train_data['Outlet_Establishment_Year'].apply(lambda x: 2013 - x) \n",
        "test_data['num_years'] = test_data['Outlet_Establishment_Year'].apply(lambda x: 2013 - x)"
      ],
      "execution_count": 39,
      "outputs": []
    },
    {
      "cell_type": "code",
      "metadata": {
        "id": "IMWEMf171nuq",
        "outputId": "7fb5120d-07c1-47e6-f1d9-7e252bb225cd",
        "colab": {
          "base_uri": "https://localhost:8080/"
        }
      },
      "source": [
        "train_data['Item_Type'].unique()"
      ],
      "execution_count": 40,
      "outputs": [
        {
          "output_type": "execute_result",
          "data": {
            "text/plain": [
              "array(['Dairy', 'Soft Drinks', 'Meat', 'Fruits and Vegetables',\n",
              "       'Household', 'Baking Goods', 'Snack Foods', 'Frozen Foods',\n",
              "       'Breakfast', 'Health and Hygiene', 'Hard Drinks', 'Canned',\n",
              "       'Breads', 'Starchy Foods', 'Others', 'Seafood'], dtype=object)"
            ]
          },
          "metadata": {
            "tags": []
          },
          "execution_count": 40
        }
      ]
    },
    {
      "cell_type": "code",
      "metadata": {
        "id": "6ov56PbE1pQr",
        "outputId": "173ab083-dec5-4a5b-cdfd-b366e0ea22a2",
        "colab": {
          "base_uri": "https://localhost:8080/",
          "height": 495
        }
      },
      "source": [
        "sns.factorplot('Outlet_Location_Type',data = train_data,hue ='Outlet_Size' ,kind='count')"
      ],
      "execution_count": 41,
      "outputs": [
        {
          "output_type": "stream",
          "text": [
            "/usr/local/lib/python3.6/dist-packages/seaborn/categorical.py:3704: UserWarning: The `factorplot` function has been renamed to `catplot`. The original name will be removed in a future release. Please update your code. Note that the default `kind` in `factorplot` (`'point'`) has changed `'strip'` in `catplot`.\n",
            "  warnings.warn(msg)\n",
            "/usr/local/lib/python3.6/dist-packages/seaborn/_decorators.py:43: FutureWarning: Pass the following variable as a keyword arg: x. From version 0.12, the only valid positional argument will be `data`, and passing other arguments without an explicit keyword will result in an error or misinterpretation.\n",
            "  FutureWarning\n"
          ],
          "name": "stderr"
        },
        {
          "output_type": "execute_result",
          "data": {
            "text/plain": [
              "<seaborn.axisgrid.FacetGrid at 0x7f72185d1048>"
            ]
          },
          "metadata": {
            "tags": []
          },
          "execution_count": 41
        },
        {
          "output_type": "display_data",
          "data": {
            "image/png": "[encoded data removed]",
            "text/plain": [
              "<Figure size 436x360 with 1 Axes>"
            ]
          },
          "metadata": {
            "tags": [],
            "needs_background": "light"
          }
        }
      ]
    },
    {
      "cell_type": "code",
      "metadata": {
        "id": "jXLIoQui1sV5"
      },
      "source": [
        "full_data = [train_data, test_data]\n",
        "for data in full_data:\n",
        "    data['Item_Weight'].fillna(data['Item_Weight'].mean(),inplace = True)\n",
        "    data['Outlet_Size'].fillna('Medium',inplace = True)"
      ],
      "execution_count": 42,
      "outputs": []
    },
    {
      "cell_type": "code",
      "metadata": {
        "id": "pKk4Go3a1u8e"
      },
      "source": [
        "col = ['Item_Fat_Content', 'Item_Type', 'Outlet_Size', 'Outlet_Location_Type', 'Outlet_Type']\n",
        "train_datar = pd.get_dummies(train_data, columns = col, drop_first = True)\n",
        "test_datar = pd.get_dummies(test_data, columns = col,drop_first = True)\n",
        "feat_cols = ['Item_Weight', 'Item_Visibility', 'Item_MRP', 'num_years',\n",
        "       'Item_Fat_Content_Regular', 'Item_Type_Breads', 'Item_Type_Breakfast',\n",
        "       'Item_Type_Canned', 'Item_Type_Dairy', 'Item_Type_Frozen Foods',\n",
        "       'Item_Type_Fruits and Vegetables', 'Item_Type_Hard Drinks',\n",
        "       'Item_Type_Health and Hygiene', 'Item_Type_Household', 'Item_Type_Meat',\n",
        "       'Item_Type_Others', 'Item_Type_Seafood', 'Item_Type_Snack Foods',\n",
        "       'Item_Type_Soft Drinks', 'Item_Type_Starchy Foods',\n",
        "       'Outlet_Size_Medium', 'Outlet_Size_Small',\n",
        "       'Outlet_Location_Type_Tier 2', 'Outlet_Location_Type_Tier 3',\n",
        "       'Outlet_Type_Supermarket Type1', 'Outlet_Type_Supermarket Type2',\n",
        "       'Outlet_Type_Supermarket Type3']"
      ],
      "execution_count": 43,
      "outputs": []
    },
    {
      "cell_type": "code",
      "metadata": {
        "id": "Uc3BVjw-1xk-"
      },
      "source": [
        "X = train_datar[feat_cols]\n",
        "y = train_datar['Item_Outlet_Sales']"
      ],
      "execution_count": 44,
      "outputs": []
    },
    {
      "cell_type": "code",
      "metadata": {
        "id": "cCXZrFhJ1z3s"
      },
      "source": [
        "from sklearn.model_selection import train_test_split\n",
        "X_train, X_test, y_train, y_test = train_test_split(X, y, test_size = 0.2,random_state = 0)"
      ],
      "execution_count": 45,
      "outputs": []
    },
    {
      "cell_type": "code",
      "metadata": {
        "id": "tPkDoGOP18Xj",
        "outputId": "6d0fd524-0cde-4edd-f208-ccac6810ae38",
        "colab": {
          "base_uri": "https://localhost:8080/"
        }
      },
      "source": [
        "from xgboost.sklearn import XGBRegressor\n",
        "XGB = XGBRegressor()\n",
        "XGB.fit(X_train, y_train)\n",
        "y_pred = XGB.predict(X_test)"
      ],
      "execution_count": 46,
      "outputs": [
        {
          "output_type": "stream",
          "text": [
            "[08:12:30] WARNING: /workspace/src/objective/regression_obj.cu:152: reg:linear is now deprecated in favor of reg:squarederror.\n"
          ],
          "name": "stdout"
        }
      ]
    },
    {
      "cell_type": "code",
      "metadata": {
        "id": "iWxnTvyR18wB",
        "outputId": "5e3731ab-962d-4a61-96f5-db6c28682d34",
        "colab": {
          "base_uri": "https://localhost:8080/"
        }
      },
      "source": [
        "from sklearn.metrics import mean_squared_error\n",
        "from math import sqrt\n",
        "rmse = sqrt(mean_squared_error(y_test, y_pred))\n",
        "print(rmse)"
      ],
      "execution_count": 47,
      "outputs": [
        {
          "output_type": "stream",
          "text": [
            "1098.2495755279024\n"
          ],
          "name": "stdout"
        }
      ]
    },
    {
      "cell_type": "code",
      "metadata": {
        "id": "Efy5mTt31-dN",
        "outputId": "cae4331e-d631-47a1-e20f-d73f61eef210",
        "colab": {
          "base_uri": "https://localhost:8080/"
        }
      },
      "source": [
        "X_t = test_datar[feat_cols]\n",
        "y_result = XGB.predict(X_t)\n",
        "print(y_result)"
      ],
      "execution_count": 48,
      "outputs": [
        {
          "output_type": "stream",
          "text": [
            "[1589.1945 1411.1958 1019.7632 ... 1862.6682 4009.5142 1298.3594]\n"
          ],
          "name": "stdout"
        }
      ]
    },
    {
      "cell_type": "code",
      "metadata": {
        "id": "oY3eEx5B2EES",
        "outputId": "8e60d01f-805a-4b0d-e7b2-9dd8a592099d",
        "colab": {
          "base_uri": "https://localhost:8080/"
        }
      },
      "source": [
        "result = pd.DataFrame()\n",
        "result['Item_Identifier'] = test_datar['Item_Identifier']\n",
        "result['Outlet_Identifier'] = test_datar['Outlet_Identifier']\n",
        "\n",
        "result[\"Item_Outlet_Sales\"] = y_result\n",
        "result = result.sort_index()\n",
        "result.to_csv('Bigmart_XGBoost3.csv',index = False)\n",
        "print(result)"
      ],
      "execution_count": 49,
      "outputs": [
        {
          "output_type": "stream",
          "text": [
            "     Item_Identifier Outlet_Identifier  Item_Outlet_Sales\n",
            "0              FDW58            OUT049        1589.194458\n",
            "1              FDW14            OUT017        1411.195801\n",
            "2              NCN55            OUT010        1019.763184\n",
            "3              FDQ58            OUT017        2512.541992\n",
            "4              FDY38            OUT027        5599.582031\n",
            "...              ...               ...                ...\n",
            "5676           FDB58            OUT046        2060.083252\n",
            "5677           FDD47            OUT018        2424.532227\n",
            "5678           NCO17            OUT045        1862.668213\n",
            "5679           FDJ26            OUT017        4009.514160\n",
            "5680           FDU37            OUT045        1298.359375\n",
            "\n",
            "[5681 rows x 3 columns]\n"
          ],
          "name": "stdout"
        }
      ]
    }
  ]
}