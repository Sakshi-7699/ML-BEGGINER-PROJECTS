{
  "nbformat": 4,
  "nbformat_minor": 0,
  "metadata": {
    "kernelspec": {
      "display_name": "Python 3",
      "language": "python",
      "name": "python3"
    },
    "language_info": {
      "codemirror_mode": {
        "name": "ipython",
        "version": 3
      },
      "file_extension": ".py",
      "mimetype": "text/x-python",
      "name": "python",
      "nbconvert_exporter": "python",
      "pygments_lexer": "ipython3",
      "version": "3.7.7"
    },
    "colab": {
      "name": "DMW Mini Project : Phase 1 [Preprocessing].ipynb",
      "provenance": [],
      "collapsed_sections": [],
      "toc_visible": true,
      "include_colab_link": true
    }
  },
  "cells": [
    {
      "cell_type": "markdown",
      "metadata": {
        "id": "view-in-github",
        "colab_type": "text"
      },
      "source": [
        "<a href=\"https://colab.research.google.com/github/Sakshi-7699/Machine-Learning-Projects/blob/master/DMW.ipynb\" target=\"_parent\"><img src=\"https://colab.research.google.com/assets/colab-badge.svg\" alt=\"Open In Colab\"/></a>"
      ]
    },
    {
      "cell_type": "markdown",
      "metadata": {
        "id": "GsC9fD53_fXY"
      },
      "source": [
        "## **Movie Success Predictor** "
      ]
    },
    {
      "cell_type": "code",
      "metadata": {
        "_cell_guid": "2a40441d-9323-4a46-a4ed-2f2c5578847a",
        "_uuid": "2d048e41029924b5a022ae5c837e937071f40224",
        "id": "YNyGEqdPQL7j"
      },
      "source": [
        "import pandas as pd # pandas is a data manipulation library\n",
        "import numpy as np #provides numerical arrays and functions to manipulate the arrays efficiently\n",
        "import random\n",
        "import matplotlib.pyplot as plt # data visualization library\n",
        "from wordcloud import WordCloud, STOPWORDS #used to generate world cloud"
      ],
      "execution_count": 7,
      "outputs": []
    },
    {
      "cell_type": "markdown",
      "metadata": {
        "_cell_guid": "ab55fb56-0d70-4a5c-aef7-4657c412538a",
        "_uuid": "5e4096abe0347671231f6b0d7e0c5b2d9e450ce5",
        "id": "FZC6XgPlQL7p"
      },
      "source": [
        "\n",
        "\n",
        "\n",
        "\n",
        "**1.Exploring the Dataset**"
      ]
    },
    {
      "cell_type": "code",
      "metadata": {
        "_cell_guid": "38078f61-0b43-4dec-b5c4-3e05f018ca4c",
        "_uuid": "a03802f4bf028f0ccaeb58e02aba136492740b4d",
        "id": "I45tVSF9QL7q",
        "outputId": "849b87dc-63f5-4a9a-8f9d-26103b3c573c",
        "colab": {
          "base_uri": "https://localhost:8080/"
        }
      },
      "source": [
        "# lets explore movies.csv\n",
        "data= pd.read_csv('/content/movies.csv')\n",
        "data.shape"
      ],
      "execution_count": 8,
      "outputs": [
        {
          "output_type": "execute_result",
          "data": {
            "text/plain": [
              "(27278, 3)"
            ]
          },
          "metadata": {
            "tags": []
          },
          "execution_count": 8
        }
      ]
    },
    {
      "cell_type": "code",
      "metadata": {
        "_cell_guid": "507e1c1e-e814-485c-abf9-b493bb9bd969",
        "_uuid": "44822a8cdd687e8dcda649d14eb7568067a71030",
        "id": "zB--AjftQL7v",
        "outputId": "7e2bc406-3223-43a4-8ee8-8c6a68f34a7a",
        "colab": {
          "base_uri": "https://localhost:8080/",
          "height": 198
        }
      },
      "source": [
        "data.head() #displays first 5 entries "
      ],
      "execution_count": 9,
      "outputs": [
        {
          "output_type": "execute_result",
          "data": {
            "text/html": [
              "<div>\n",
              "<style scoped>\n",
              "    .dataframe tbody tr th:only-of-type {\n",
              "        vertical-align: middle;\n",
              "    }\n",
              "\n",
              "    .dataframe tbody tr th {\n",
              "        vertical-align: top;\n",
              "    }\n",
              "\n",
              "    .dataframe thead th {\n",
              "        text-align: right;\n",
              "    }\n",
              "</style>\n",
              "<table border=\"1\" class=\"dataframe\">\n",
              "  <thead>\n",
              "    <tr style=\"text-align: right;\">\n",
              "      <th></th>\n",
              "      <th>movieId</th>\n",
              "      <th>title</th>\n",
              "      <th>genres</th>\n",
              "    </tr>\n",
              "  </thead>\n",
              "  <tbody>\n",
              "    <tr>\n",
              "      <th>0</th>\n",
              "      <td>1</td>\n",
              "      <td>Toy Story (1995)</td>\n",
              "      <td>Adventure|Animation|Children|Comedy|Fantasy</td>\n",
              "    </tr>\n",
              "    <tr>\n",
              "      <th>1</th>\n",
              "      <td>2</td>\n",
              "      <td>Jumanji (1995)</td>\n",
              "      <td>Adventure|Children|Fantasy</td>\n",
              "    </tr>\n",
              "    <tr>\n",
              "      <th>2</th>\n",
              "      <td>3</td>\n",
              "      <td>Grumpier Old Men (1995)</td>\n",
              "      <td>Comedy|Romance</td>\n",
              "    </tr>\n",
              "    <tr>\n",
              "      <th>3</th>\n",
              "      <td>4</td>\n",
              "      <td>Waiting to Exhale (1995)</td>\n",
              "      <td>Comedy|Drama|Romance</td>\n",
              "    </tr>\n",
              "    <tr>\n",
              "      <th>4</th>\n",
              "      <td>5</td>\n",
              "      <td>Father of the Bride Part II (1995)</td>\n",
              "      <td>Comedy</td>\n",
              "    </tr>\n",
              "  </tbody>\n",
              "</table>\n",
              "</div>"
            ],
            "text/plain": [
              "   movieId  ...                                       genres\n",
              "0        1  ...  Adventure|Animation|Children|Comedy|Fantasy\n",
              "1        2  ...                   Adventure|Children|Fantasy\n",
              "2        3  ...                               Comedy|Romance\n",
              "3        4  ...                         Comedy|Drama|Romance\n",
              "4        5  ...                                       Comedy\n",
              "\n",
              "[5 rows x 3 columns]"
            ]
          },
          "metadata": {
            "tags": []
          },
          "execution_count": 9
        }
      ]
    },
    {
      "cell_type": "code",
      "metadata": {
        "_cell_guid": "1d55dcd2-b788-433d-98e1-5f31659d4f66",
        "_uuid": "b42b8c3fd62df15fe11c6a9456192b0b076db765",
        "scrolled": false,
        "id": "404A52M0QL7z",
        "outputId": "3ec82723-f629-4da1-c30c-a9d0cf1671ee",
        "colab": {
          "base_uri": "https://localhost:8080/"
        }
      },
      "source": [
        "data.info()"
      ],
      "execution_count": 10,
      "outputs": [
        {
          "output_type": "stream",
          "text": [
            "<class 'pandas.core.frame.DataFrame'>\n",
            "RangeIndex: 27278 entries, 0 to 27277\n",
            "Data columns (total 3 columns):\n",
            " #   Column   Non-Null Count  Dtype \n",
            "---  ------   --------------  ----- \n",
            " 0   movieId  27278 non-null  int64 \n",
            " 1   title    27278 non-null  object\n",
            " 2   genres   27278 non-null  object\n",
            "dtypes: int64(1), object(2)\n",
            "memory usage: 639.5+ KB\n"
          ],
          "name": "stdout"
        }
      ]
    },
    {
      "cell_type": "code",
      "metadata": {
        "_cell_guid": "dec6ff69-92b7-4237-8714-68e5eedf7037",
        "_uuid": "c8a07439e3c669b494271eeacf3697753f477b2e",
        "id": "V2MCNhOlQL74",
        "outputId": "4c01f00f-280f-4d6e-ee0e-ffbf6c5f595f",
        "colab": {
          "base_uri": "https://localhost:8080/"
        }
      },
      "source": [
        "#number of unique movies\n",
        "movies = data['movieId'].unique().tolist()\n",
        "len(movies)"
      ],
      "execution_count": 11,
      "outputs": [
        {
          "output_type": "execute_result",
          "data": {
            "text/plain": [
              "27278"
            ]
          },
          "metadata": {
            "tags": []
          },
          "execution_count": 11
        }
      ]
    },
    {
      "cell_type": "code",
      "metadata": {
        "_cell_guid": "f3e1d980-1589-43a8-9fe3-e214afc5ad9a",
        "_uuid": "66778c19d97dbbf74529e0a9226f7426c64fdae4",
        "id": "1n48g1vLQL78",
        "outputId": "f46d2620-c432-4c7d-da50-0621a4f94ab0",
        "colab": {
          "base_uri": "https://localhost:8080/"
        }
      },
      "source": [
        "#  exploring ratings.CSV\n",
        "ratings_data=pd.read_csv('/content/ratings.csv',sep=',')\n",
        "ratings_data.shape"
      ],
      "execution_count": 12,
      "outputs": [
        {
          "output_type": "execute_result",
          "data": {
            "text/plain": [
              "(1048575, 4)"
            ]
          },
          "metadata": {
            "tags": []
          },
          "execution_count": 12
        }
      ]
    },
    {
      "cell_type": "code",
      "metadata": {
        "_cell_guid": "1e97cc8a-4f02-464b-af8b-5bc84c247121",
        "_uuid": "c1e361a24fbded3aa992bb55a032c9f587069fa2",
        "id": "hweZnt6TQL8C",
        "outputId": "1d5e3266-da00-46b2-ca63-bd9ad2787a31",
        "colab": {
          "base_uri": "https://localhost:8080/",
          "height": 288
        }
      },
      "source": [
        "#summary of ratings.csv\n",
        "ratings_data.describe()"
      ],
      "execution_count": 13,
      "outputs": [
        {
          "output_type": "execute_result",
          "data": {
            "text/html": [
              "<div>\n",
              "<style scoped>\n",
              "    .dataframe tbody tr th:only-of-type {\n",
              "        vertical-align: middle;\n",
              "    }\n",
              "\n",
              "    .dataframe tbody tr th {\n",
              "        vertical-align: top;\n",
              "    }\n",
              "\n",
              "    .dataframe thead th {\n",
              "        text-align: right;\n",
              "    }\n",
              "</style>\n",
              "<table border=\"1\" class=\"dataframe\">\n",
              "  <thead>\n",
              "    <tr style=\"text-align: right;\">\n",
              "      <th></th>\n",
              "      <th>userId</th>\n",
              "      <th>movieId</th>\n",
              "      <th>rating</th>\n",
              "      <th>timestamp</th>\n",
              "    </tr>\n",
              "  </thead>\n",
              "  <tbody>\n",
              "    <tr>\n",
              "      <th>count</th>\n",
              "      <td>1.048575e+06</td>\n",
              "      <td>1.048575e+06</td>\n",
              "      <td>1.048575e+06</td>\n",
              "      <td>1.048575e+06</td>\n",
              "    </tr>\n",
              "    <tr>\n",
              "      <th>mean</th>\n",
              "      <td>3.527086e+03</td>\n",
              "      <td>8.648988e+03</td>\n",
              "      <td>3.529272e+00</td>\n",
              "      <td>1.096036e+09</td>\n",
              "    </tr>\n",
              "    <tr>\n",
              "      <th>std</th>\n",
              "      <td>2.018424e+03</td>\n",
              "      <td>1.910014e+04</td>\n",
              "      <td>1.051919e+00</td>\n",
              "      <td>1.594899e+08</td>\n",
              "    </tr>\n",
              "    <tr>\n",
              "      <th>min</th>\n",
              "      <td>1.000000e+00</td>\n",
              "      <td>1.000000e+00</td>\n",
              "      <td>5.000000e-01</td>\n",
              "      <td>8.254999e+08</td>\n",
              "    </tr>\n",
              "    <tr>\n",
              "      <th>25%</th>\n",
              "      <td>1.813000e+03</td>\n",
              "      <td>9.030000e+02</td>\n",
              "      <td>3.000000e+00</td>\n",
              "      <td>9.658382e+08</td>\n",
              "    </tr>\n",
              "    <tr>\n",
              "      <th>50%</th>\n",
              "      <td>3.540000e+03</td>\n",
              "      <td>2.143000e+03</td>\n",
              "      <td>4.000000e+00</td>\n",
              "      <td>1.099263e+09</td>\n",
              "    </tr>\n",
              "    <tr>\n",
              "      <th>75%</th>\n",
              "      <td>5.233000e+03</td>\n",
              "      <td>4.641000e+03</td>\n",
              "      <td>4.000000e+00</td>\n",
              "      <td>1.217407e+09</td>\n",
              "    </tr>\n",
              "    <tr>\n",
              "      <th>max</th>\n",
              "      <td>7.120000e+03</td>\n",
              "      <td>1.306420e+05</td>\n",
              "      <td>5.000000e+00</td>\n",
              "      <td>1.427764e+09</td>\n",
              "    </tr>\n",
              "  </tbody>\n",
              "</table>\n",
              "</div>"
            ],
            "text/plain": [
              "             userId       movieId        rating     timestamp\n",
              "count  1.048575e+06  1.048575e+06  1.048575e+06  1.048575e+06\n",
              "mean   3.527086e+03  8.648988e+03  3.529272e+00  1.096036e+09\n",
              "std    2.018424e+03  1.910014e+04  1.051919e+00  1.594899e+08\n",
              "min    1.000000e+00  1.000000e+00  5.000000e-01  8.254999e+08\n",
              "25%    1.813000e+03  9.030000e+02  3.000000e+00  9.658382e+08\n",
              "50%    3.540000e+03  2.143000e+03  4.000000e+00  1.099263e+09\n",
              "75%    5.233000e+03  4.641000e+03  4.000000e+00  1.217407e+09\n",
              "max    7.120000e+03  1.306420e+05  5.000000e+00  1.427764e+09"
            ]
          },
          "metadata": {
            "tags": []
          },
          "execution_count": 13
        }
      ]
    },
    {
      "cell_type": "code",
      "metadata": {
        "_cell_guid": "a452a599-ab0e-47bd-a443-01715f726cae",
        "_uuid": "fedf6796762757a0433ec8e7064a3077e1ed835d",
        "id": "-ZR_1kgiQL8H",
        "outputId": "6ce1c5fe-6f32-409a-dd6d-e480e4242d4a",
        "colab": {
          "base_uri": "https://localhost:8080/"
        }
      },
      "source": [
        "#minimum rating given to a movie\n",
        "ratings_data['rating'].min() \n"
      ],
      "execution_count": 14,
      "outputs": [
        {
          "output_type": "execute_result",
          "data": {
            "text/plain": [
              "0.5"
            ]
          },
          "metadata": {
            "tags": []
          },
          "execution_count": 14
        }
      ]
    },
    {
      "cell_type": "code",
      "metadata": {
        "_cell_guid": "e17d5c10-fdd3-4ec4-bab0-29ef3c315ac3",
        "_uuid": "5f6bc3d2761e7283c5c612192516bb17e96da4f4",
        "id": "miNQHLCAQL8L",
        "outputId": "9fc5ec7a-509b-43a2-d4e0-708f34d634af",
        "colab": {
          "base_uri": "https://localhost:8080/"
        }
      },
      "source": [
        "#maximum rating given to a movie\n",
        "ratings_data['rating'].max()"
      ],
      "execution_count": 15,
      "outputs": [
        {
          "output_type": "execute_result",
          "data": {
            "text/plain": [
              "5.0"
            ]
          },
          "metadata": {
            "tags": []
          },
          "execution_count": 15
        }
      ]
    },
    {
      "cell_type": "markdown",
      "metadata": {
        "_cell_guid": "3306e354-c8cd-4f33-9f94-702101e0a7a7",
        "_uuid": "0e9a900b4ad4a261948f1eb587ff0e3e31e4c84a",
        "id": "IvU_2HfSQL8P"
      },
      "source": [
        "**2.Cleaning of data**"
      ]
    },
    {
      "cell_type": "code",
      "metadata": {
        "_cell_guid": "59d32555-d991-41f6-ac58-07599c35ca6e",
        "_uuid": "f88a513702331a3225a083be12e6354de26b28b0",
        "id": "R3ncwLPZQL8Q",
        "outputId": "ee5a50ce-a867-4f30-bd4d-38819cbdf016",
        "colab": {
          "base_uri": "https://localhost:8080/"
        }
      },
      "source": [
        "# checking movies.csv\n",
        "data.shape"
      ],
      "execution_count": 16,
      "outputs": [
        {
          "output_type": "execute_result",
          "data": {
            "text/plain": [
              "(27278, 3)"
            ]
          },
          "metadata": {
            "tags": []
          },
          "execution_count": 16
        }
      ]
    },
    {
      "cell_type": "code",
      "metadata": {
        "_cell_guid": "46bc77a4-0c0d-4b19-a0b0-212dc4efad7a",
        "_uuid": "868181db41da79c2a9c68f5e51db47c10601215c",
        "id": "e3dBltXTQL8T",
        "outputId": "a36b6011-e79f-48cf-90f6-c82c954da3c0",
        "colab": {
          "base_uri": "https://localhost:8080/"
        }
      },
      "source": [
        "#is any row null\n",
        "data.isnull().any()\n"
      ],
      "execution_count": 17,
      "outputs": [
        {
          "output_type": "execute_result",
          "data": {
            "text/plain": [
              "movieId    False\n",
              "title      False\n",
              "genres     False\n",
              "dtype: bool"
            ]
          },
          "metadata": {
            "tags": []
          },
          "execution_count": 17
        }
      ]
    },
    {
      "cell_type": "code",
      "metadata": {
        "_cell_guid": "c6693b76-9d88-497d-a48d-0df42b6f5deb",
        "_uuid": "28d95abe3da8e3b75d5ac09b64bfcd4a52fb8734",
        "id": "WZUFanO9QL8X",
        "outputId": "7a466c03-05d8-42e8-8c27-ee987a910501",
        "colab": {
          "base_uri": "https://localhost:8080/"
        }
      },
      "source": [
        "#checking ratings.csv\n",
        "ratings_data.shape"
      ],
      "execution_count": 18,
      "outputs": [
        {
          "output_type": "execute_result",
          "data": {
            "text/plain": [
              "(1048575, 4)"
            ]
          },
          "metadata": {
            "tags": []
          },
          "execution_count": 18
        }
      ]
    },
    {
      "cell_type": "code",
      "metadata": {
        "_cell_guid": "4ff42cfe-1127-4baa-abc1-12cbfb42eaee",
        "_uuid": "8311fed9842473a29a672c6af50e225c053967be",
        "id": "ufrln6_RQL8b",
        "outputId": "986072ac-2ce7-401d-ebcd-acca5fd24889",
        "colab": {
          "base_uri": "https://localhost:8080/"
        }
      },
      "source": [
        "#is any row null there\n",
        "ratings_data.isnull().any()"
      ],
      "execution_count": 19,
      "outputs": [
        {
          "output_type": "execute_result",
          "data": {
            "text/plain": [
              "userId       False\n",
              "movieId      False\n",
              "rating       False\n",
              "timestamp    False\n",
              "dtype: bool"
            ]
          },
          "metadata": {
            "tags": []
          },
          "execution_count": 19
        }
      ]
    },
    {
      "cell_type": "code",
      "metadata": {
        "_cell_guid": "8bd29af6-6c71-4535-824e-1647cd365f18",
        "_uuid": "d252ebcb209c02412434282962f0c19f0f3cb32b",
        "id": "CwTtp89SQL8f",
        "outputId": "069caa18-165d-409b-d8b4-8b0ba344b7a6",
        "colab": {
          "base_uri": "https://localhost:8080/"
        }
      },
      "source": [
        "#checking tags.csv\n",
        "tags_data=pd.read_csv('/content/tags.csv',sep=',')\n",
        "tags_data.shape\n"
      ],
      "execution_count": 21,
      "outputs": [
        {
          "output_type": "execute_result",
          "data": {
            "text/plain": [
              "(465564, 4)"
            ]
          },
          "metadata": {
            "tags": []
          },
          "execution_count": 21
        }
      ]
    },
    {
      "cell_type": "code",
      "metadata": {
        "_cell_guid": "d83f4fcc-5387-4d1f-a0d1-6c7510261757",
        "_uuid": "043aa8c0a8f7b157ce0b01cd4871de2f13bbae2c",
        "id": "TFOon5M2QL8k",
        "outputId": "c55067a3-6285-4a92-ef83-c1b31beb630a",
        "colab": {
          "base_uri": "https://localhost:8080/"
        }
      },
      "source": [
        "#is any row null in tags.csv\n",
        "tags_data.isnull().any()"
      ],
      "execution_count": 22,
      "outputs": [
        {
          "output_type": "execute_result",
          "data": {
            "text/plain": [
              "userId       False\n",
              "movieId      False\n",
              "tag           True\n",
              "timestamp    False\n",
              "dtype: bool"
            ]
          },
          "metadata": {
            "tags": []
          },
          "execution_count": 22
        }
      ]
    },
    {
      "cell_type": "code",
      "metadata": {
        "_cell_guid": "fe60c58c-68e0-46ab-837b-19a16a4fb8fc",
        "_uuid": "bdc5d32612b4cfad4a1181d0ff221de83e829e12",
        "id": "vBBGDLOfQL8o"
      },
      "source": [
        "# lets drop null rows\n",
        "tags_data=tags_data.dropna()"
      ],
      "execution_count": 23,
      "outputs": []
    },
    {
      "cell_type": "code",
      "metadata": {
        "_cell_guid": "9f8e9aaa-969c-407e-b0b4-ca1970331b21",
        "_uuid": "d95b2608944c186d152fc13ebdcfc9fa72133eeb",
        "id": "qzRc-MSvQL8r",
        "outputId": "3cd0093c-c2cb-47e3-a188-4ed7482582d0",
        "colab": {
          "base_uri": "https://localhost:8080/"
        }
      },
      "source": [
        "# after cleaning the data there are no more null rows in tags.csv\n",
        "tags_data.isnull().any()"
      ],
      "execution_count": 24,
      "outputs": [
        {
          "output_type": "execute_result",
          "data": {
            "text/plain": [
              "userId       False\n",
              "movieId      False\n",
              "tag          False\n",
              "timestamp    False\n",
              "dtype: bool"
            ]
          },
          "metadata": {
            "tags": []
          },
          "execution_count": 24
        }
      ]
    },
    {
      "cell_type": "code",
      "metadata": {
        "_cell_guid": "2e084e5b-12d9-4495-a155-7661e71bd02e",
        "_uuid": "8bce1a1e5c481b81772af87f14d7eadd79a9ace5",
        "id": "63gkZXXFQL8v",
        "outputId": "b18d928f-4c41-48f0-ff52-996d8aa9ccef",
        "colab": {
          "base_uri": "https://localhost:8080/"
        }
      },
      "source": [
        "# number of unique tags \n",
        "unique_tags=tags_data['tag'].unique().tolist()\n",
        "len(unique_tags)\n"
      ],
      "execution_count": 25,
      "outputs": [
        {
          "output_type": "execute_result",
          "data": {
            "text/plain": [
              "38643"
            ]
          },
          "metadata": {
            "tags": []
          },
          "execution_count": 25
        }
      ]
    },
    {
      "cell_type": "code",
      "metadata": {
        "id": "GE8_7hPFA7kD",
        "outputId": "3cd77c33-9059-494a-cec5-62a987eca998",
        "colab": {
          "base_uri": "https://localhost:8080/"
        }
      },
      "source": [
        "unique_tags[:5]"
      ],
      "execution_count": 26,
      "outputs": [
        {
          "output_type": "execute_result",
          "data": {
            "text/plain": [
              "['Mark Waters', 'dark hero', 'noir thriller', 'bollywood', 'screwball comedy']"
            ]
          },
          "metadata": {
            "tags": []
          },
          "execution_count": 26
        }
      ]
    },
    {
      "cell_type": "markdown",
      "metadata": {
        "_cell_guid": "985127f3-7e61-41f4-9f64-f624d3cca914",
        "_uuid": "89ec589299ed207d0aa2fdb54b6f3b4cfefa96bb",
        "id": "Um2xtqXkQL8y"
      },
      "source": [
        "**3. Data Analysis**"
      ]
    },
    {
      "cell_type": "code",
      "metadata": {
        "_cell_guid": "81041888-a5af-4a30-a45c-e918bb7ab7c0",
        "_uuid": "55281ad96cad1645ec46d5955ef86c08fe728554",
        "id": "bAmHWqwmQL8z",
        "outputId": "6a81b0ab-0eb9-4db9-869f-c5e28aae28da",
        "colab": {
          "base_uri": "https://localhost:8080/",
          "height": 198
        }
      },
      "source": [
        "# filtering to get the list of drama movies\n",
        "drama_movies=data['genres'].str.contains('Drama')\n",
        "data[drama_movies].head()"
      ],
      "execution_count": 27,
      "outputs": [
        {
          "output_type": "execute_result",
          "data": {
            "text/html": [
              "<div>\n",
              "<style scoped>\n",
              "    .dataframe tbody tr th:only-of-type {\n",
              "        vertical-align: middle;\n",
              "    }\n",
              "\n",
              "    .dataframe tbody tr th {\n",
              "        vertical-align: top;\n",
              "    }\n",
              "\n",
              "    .dataframe thead th {\n",
              "        text-align: right;\n",
              "    }\n",
              "</style>\n",
              "<table border=\"1\" class=\"dataframe\">\n",
              "  <thead>\n",
              "    <tr style=\"text-align: right;\">\n",
              "      <th></th>\n",
              "      <th>movieId</th>\n",
              "      <th>title</th>\n",
              "      <th>genres</th>\n",
              "    </tr>\n",
              "  </thead>\n",
              "  <tbody>\n",
              "    <tr>\n",
              "      <th>3</th>\n",
              "      <td>4</td>\n",
              "      <td>Waiting to Exhale (1995)</td>\n",
              "      <td>Comedy|Drama|Romance</td>\n",
              "    </tr>\n",
              "    <tr>\n",
              "      <th>10</th>\n",
              "      <td>11</td>\n",
              "      <td>American President, The (1995)</td>\n",
              "      <td>Comedy|Drama|Romance</td>\n",
              "    </tr>\n",
              "    <tr>\n",
              "      <th>13</th>\n",
              "      <td>14</td>\n",
              "      <td>Nixon (1995)</td>\n",
              "      <td>Drama</td>\n",
              "    </tr>\n",
              "    <tr>\n",
              "      <th>15</th>\n",
              "      <td>16</td>\n",
              "      <td>Casino (1995)</td>\n",
              "      <td>Crime|Drama</td>\n",
              "    </tr>\n",
              "    <tr>\n",
              "      <th>16</th>\n",
              "      <td>17</td>\n",
              "      <td>Sense and Sensibility (1995)</td>\n",
              "      <td>Drama|Romance</td>\n",
              "    </tr>\n",
              "  </tbody>\n",
              "</table>\n",
              "</div>"
            ],
            "text/plain": [
              "    movieId                           title                genres\n",
              "3         4        Waiting to Exhale (1995)  Comedy|Drama|Romance\n",
              "10       11  American President, The (1995)  Comedy|Drama|Romance\n",
              "13       14                    Nixon (1995)                 Drama\n",
              "15       16                   Casino (1995)           Crime|Drama\n",
              "16       17    Sense and Sensibility (1995)         Drama|Romance"
            ]
          },
          "metadata": {
            "tags": []
          },
          "execution_count": 27
        }
      ]
    },
    {
      "cell_type": "code",
      "metadata": {
        "_cell_guid": "5bd2e384-0df7-4aae-80fc-6640818bd6a8",
        "_uuid": "54e7fad8a5f3c48f2629db088908d4c924fad293",
        "id": "JUwiLnYbQL82",
        "outputId": "4f3047d9-77a3-4211-b40c-414b8ba0ecfc",
        "colab": {
          "base_uri": "https://localhost:8080/"
        }
      },
      "source": [
        "#total number of drama movies\n",
        "drama_movies.shape"
      ],
      "execution_count": 28,
      "outputs": [
        {
          "output_type": "execute_result",
          "data": {
            "text/plain": [
              "(27278,)"
            ]
          },
          "metadata": {
            "tags": []
          },
          "execution_count": 28
        }
      ]
    },
    {
      "cell_type": "code",
      "metadata": {
        "_cell_guid": "8c2885ee-d51c-495f-80a8-d484634755cd",
        "_uuid": "ebafa5e244f1d48feda7709676f6328fce547fb8",
        "id": "ger7tzlDQL86",
        "outputId": "47d3c2fa-8040-4c60-cfff-5ace30255061",
        "colab": {
          "base_uri": "https://localhost:8080/",
          "height": 198
        }
      },
      "source": [
        "#filtering to get the list of comedy movies\n",
        "comedy_movies = data['genres'].str.contains('Comedy')\n",
        "data[comedy_movies].head()\n"
      ],
      "execution_count": 29,
      "outputs": [
        {
          "output_type": "execute_result",
          "data": {
            "text/html": [
              "<div>\n",
              "<style scoped>\n",
              "    .dataframe tbody tr th:only-of-type {\n",
              "        vertical-align: middle;\n",
              "    }\n",
              "\n",
              "    .dataframe tbody tr th {\n",
              "        vertical-align: top;\n",
              "    }\n",
              "\n",
              "    .dataframe thead th {\n",
              "        text-align: right;\n",
              "    }\n",
              "</style>\n",
              "<table border=\"1\" class=\"dataframe\">\n",
              "  <thead>\n",
              "    <tr style=\"text-align: right;\">\n",
              "      <th></th>\n",
              "      <th>movieId</th>\n",
              "      <th>title</th>\n",
              "      <th>genres</th>\n",
              "    </tr>\n",
              "  </thead>\n",
              "  <tbody>\n",
              "    <tr>\n",
              "      <th>0</th>\n",
              "      <td>1</td>\n",
              "      <td>Toy Story (1995)</td>\n",
              "      <td>Adventure|Animation|Children|Comedy|Fantasy</td>\n",
              "    </tr>\n",
              "    <tr>\n",
              "      <th>2</th>\n",
              "      <td>3</td>\n",
              "      <td>Grumpier Old Men (1995)</td>\n",
              "      <td>Comedy|Romance</td>\n",
              "    </tr>\n",
              "    <tr>\n",
              "      <th>3</th>\n",
              "      <td>4</td>\n",
              "      <td>Waiting to Exhale (1995)</td>\n",
              "      <td>Comedy|Drama|Romance</td>\n",
              "    </tr>\n",
              "    <tr>\n",
              "      <th>4</th>\n",
              "      <td>5</td>\n",
              "      <td>Father of the Bride Part II (1995)</td>\n",
              "      <td>Comedy</td>\n",
              "    </tr>\n",
              "    <tr>\n",
              "      <th>6</th>\n",
              "      <td>7</td>\n",
              "      <td>Sabrina (1995)</td>\n",
              "      <td>Comedy|Romance</td>\n",
              "    </tr>\n",
              "  </tbody>\n",
              "</table>\n",
              "</div>"
            ],
            "text/plain": [
              "   movieId  ...                                       genres\n",
              "0        1  ...  Adventure|Animation|Children|Comedy|Fantasy\n",
              "2        3  ...                               Comedy|Romance\n",
              "3        4  ...                         Comedy|Drama|Romance\n",
              "4        5  ...                                       Comedy\n",
              "6        7  ...                               Comedy|Romance\n",
              "\n",
              "[5 rows x 3 columns]"
            ]
          },
          "metadata": {
            "tags": []
          },
          "execution_count": 29
        }
      ]
    },
    {
      "cell_type": "code",
      "metadata": {
        "_cell_guid": "aa98ce16-a7be-4938-9a12-8f7881cc5768",
        "_uuid": "eb140d9966e67b74ab8b8197a7bc1d04363c2a4e",
        "id": "QYurGORRQL8-",
        "outputId": "0977ac02-8549-46be-f46d-8f8fd9ccb380",
        "colab": {
          "base_uri": "https://localhost:8080/"
        }
      },
      "source": [
        "#total no. of comedy movies\n",
        "comedy_movies.shape"
      ],
      "execution_count": 30,
      "outputs": [
        {
          "output_type": "execute_result",
          "data": {
            "text/plain": [
              "(27278,)"
            ]
          },
          "metadata": {
            "tags": []
          },
          "execution_count": 30
        }
      ]
    },
    {
      "cell_type": "code",
      "metadata": {
        "_cell_guid": "ddcf569b-827f-4036-b3ba-5036c896440e",
        "_uuid": "68b4d8d7d9d8310c971c355fdec63d9977ab7137",
        "id": "TQMTnsvqQL9C",
        "outputId": "1d94a0ab-7a34-4999-ff7f-1430ccaa94c4",
        "colab": {
          "base_uri": "https://localhost:8080/",
          "height": 198
        }
      },
      "source": [
        "#search movie id by tag search\n",
        "tag_search = tags_data['tag'].str.contains('dark')\n",
        "tags_data[tag_search].head()"
      ],
      "execution_count": 31,
      "outputs": [
        {
          "output_type": "execute_result",
          "data": {
            "text/html": [
              "<div>\n",
              "<style scoped>\n",
              "    .dataframe tbody tr th:only-of-type {\n",
              "        vertical-align: middle;\n",
              "    }\n",
              "\n",
              "    .dataframe tbody tr th {\n",
              "        vertical-align: top;\n",
              "    }\n",
              "\n",
              "    .dataframe thead th {\n",
              "        text-align: right;\n",
              "    }\n",
              "</style>\n",
              "<table border=\"1\" class=\"dataframe\">\n",
              "  <thead>\n",
              "    <tr style=\"text-align: right;\">\n",
              "      <th></th>\n",
              "      <th>userId</th>\n",
              "      <th>movieId</th>\n",
              "      <th>tag</th>\n",
              "      <th>timestamp</th>\n",
              "    </tr>\n",
              "  </thead>\n",
              "  <tbody>\n",
              "    <tr>\n",
              "      <th>1</th>\n",
              "      <td>65</td>\n",
              "      <td>208</td>\n",
              "      <td>dark hero</td>\n",
              "      <td>1368150078</td>\n",
              "    </tr>\n",
              "    <tr>\n",
              "      <th>2</th>\n",
              "      <td>65</td>\n",
              "      <td>353</td>\n",
              "      <td>dark hero</td>\n",
              "      <td>1368150079</td>\n",
              "    </tr>\n",
              "    <tr>\n",
              "      <th>4</th>\n",
              "      <td>65</td>\n",
              "      <td>592</td>\n",
              "      <td>dark hero</td>\n",
              "      <td>1368150078</td>\n",
              "    </tr>\n",
              "    <tr>\n",
              "      <th>21</th>\n",
              "      <td>65</td>\n",
              "      <td>6874</td>\n",
              "      <td>dark hero</td>\n",
              "      <td>1368150079</td>\n",
              "    </tr>\n",
              "    <tr>\n",
              "      <th>51</th>\n",
              "      <td>121</td>\n",
              "      <td>778</td>\n",
              "      <td>dark comedy</td>\n",
              "      <td>1300852846</td>\n",
              "    </tr>\n",
              "  </tbody>\n",
              "</table>\n",
              "</div>"
            ],
            "text/plain": [
              "    userId  movieId          tag   timestamp\n",
              "1       65      208    dark hero  1368150078\n",
              "2       65      353    dark hero  1368150079\n",
              "4       65      592    dark hero  1368150078\n",
              "21      65     6874    dark hero  1368150079\n",
              "51     121      778  dark comedy  1300852846"
            ]
          },
          "metadata": {
            "tags": []
          },
          "execution_count": 31
        }
      ]
    },
    {
      "cell_type": "code",
      "metadata": {
        "_cell_guid": "5e7c5f3f-f42a-42da-8e6c-938067056c7c",
        "_uuid": "292842c48edf1ecd2d912a1e4fad517481fc35ae",
        "id": "kCv77jtHQL9G",
        "outputId": "f9d4449b-84b3-42a5-de62-ddd884df6c20",
        "colab": {
          "base_uri": "https://localhost:8080/",
          "height": 198
        }
      },
      "source": [
        "#displays first 5 data from a dataframe\n",
        "#here rating.csv has 4 columns\n",
        "ratings_data.head() "
      ],
      "execution_count": 32,
      "outputs": [
        {
          "output_type": "execute_result",
          "data": {
            "text/html": [
              "<div>\n",
              "<style scoped>\n",
              "    .dataframe tbody tr th:only-of-type {\n",
              "        vertical-align: middle;\n",
              "    }\n",
              "\n",
              "    .dataframe tbody tr th {\n",
              "        vertical-align: top;\n",
              "    }\n",
              "\n",
              "    .dataframe thead th {\n",
              "        text-align: right;\n",
              "    }\n",
              "</style>\n",
              "<table border=\"1\" class=\"dataframe\">\n",
              "  <thead>\n",
              "    <tr style=\"text-align: right;\">\n",
              "      <th></th>\n",
              "      <th>userId</th>\n",
              "      <th>movieId</th>\n",
              "      <th>rating</th>\n",
              "      <th>timestamp</th>\n",
              "    </tr>\n",
              "  </thead>\n",
              "  <tbody>\n",
              "    <tr>\n",
              "      <th>0</th>\n",
              "      <td>1</td>\n",
              "      <td>2</td>\n",
              "      <td>3.5</td>\n",
              "      <td>1112486027</td>\n",
              "    </tr>\n",
              "    <tr>\n",
              "      <th>1</th>\n",
              "      <td>1</td>\n",
              "      <td>29</td>\n",
              "      <td>3.5</td>\n",
              "      <td>1112484676</td>\n",
              "    </tr>\n",
              "    <tr>\n",
              "      <th>2</th>\n",
              "      <td>1</td>\n",
              "      <td>32</td>\n",
              "      <td>3.5</td>\n",
              "      <td>1112484819</td>\n",
              "    </tr>\n",
              "    <tr>\n",
              "      <th>3</th>\n",
              "      <td>1</td>\n",
              "      <td>47</td>\n",
              "      <td>3.5</td>\n",
              "      <td>1112484727</td>\n",
              "    </tr>\n",
              "    <tr>\n",
              "      <th>4</th>\n",
              "      <td>1</td>\n",
              "      <td>50</td>\n",
              "      <td>3.5</td>\n",
              "      <td>1112484580</td>\n",
              "    </tr>\n",
              "  </tbody>\n",
              "</table>\n",
              "</div>"
            ],
            "text/plain": [
              "   userId  movieId  rating   timestamp\n",
              "0       1        2     3.5  1112486027\n",
              "1       1       29     3.5  1112484676\n",
              "2       1       32     3.5  1112484819\n",
              "3       1       47     3.5  1112484727\n",
              "4       1       50     3.5  1112484580"
            ]
          },
          "metadata": {
            "tags": []
          },
          "execution_count": 32
        }
      ]
    },
    {
      "cell_type": "code",
      "metadata": {
        "_cell_guid": "df93c5f1-d164-4d43-a2c6-adaac1204ba1",
        "_uuid": "696887e9ec12f214b43c8319c9df56b093175f94",
        "id": "0yM5l2BiQL9J"
      },
      "source": [
        "del ratings_data['timestamp']"
      ],
      "execution_count": 33,
      "outputs": []
    },
    {
      "cell_type": "markdown",
      "metadata": {
        "id": "Xv9qGffp9IVt"
      },
      "source": [
        "-----sakshi end\n"
      ]
    },
    {
      "cell_type": "code",
      "metadata": {
        "_cell_guid": "0a82a119-def0-4f4f-89b4-2b7cb3fb19a0",
        "_uuid": "fbd188305d8fa2e0feb32856d4aca59d9991ea01",
        "id": "d7QlRum8QL9N",
        "outputId": "6d43964c-ceb1-494f-bdbf-ed22375b7e70",
        "colab": {
          "base_uri": "https://localhost:8080/",
          "height": 198
        }
      },
      "source": [
        "#displays first 5 data from a dataframe\n",
        "#here ratings.csv has 3 columns\n",
        "ratings_data.head() "
      ],
      "execution_count": 34,
      "outputs": [
        {
          "output_type": "execute_result",
          "data": {
            "text/html": [
              "<div>\n",
              "<style scoped>\n",
              "    .dataframe tbody tr th:only-of-type {\n",
              "        vertical-align: middle;\n",
              "    }\n",
              "\n",
              "    .dataframe tbody tr th {\n",
              "        vertical-align: top;\n",
              "    }\n",
              "\n",
              "    .dataframe thead th {\n",
              "        text-align: right;\n",
              "    }\n",
              "</style>\n",
              "<table border=\"1\" class=\"dataframe\">\n",
              "  <thead>\n",
              "    <tr style=\"text-align: right;\">\n",
              "      <th></th>\n",
              "      <th>userId</th>\n",
              "      <th>movieId</th>\n",
              "      <th>rating</th>\n",
              "    </tr>\n",
              "  </thead>\n",
              "  <tbody>\n",
              "    <tr>\n",
              "      <th>0</th>\n",
              "      <td>1</td>\n",
              "      <td>2</td>\n",
              "      <td>3.5</td>\n",
              "    </tr>\n",
              "    <tr>\n",
              "      <th>1</th>\n",
              "      <td>1</td>\n",
              "      <td>29</td>\n",
              "      <td>3.5</td>\n",
              "    </tr>\n",
              "    <tr>\n",
              "      <th>2</th>\n",
              "      <td>1</td>\n",
              "      <td>32</td>\n",
              "      <td>3.5</td>\n",
              "    </tr>\n",
              "    <tr>\n",
              "      <th>3</th>\n",
              "      <td>1</td>\n",
              "      <td>47</td>\n",
              "      <td>3.5</td>\n",
              "    </tr>\n",
              "    <tr>\n",
              "      <th>4</th>\n",
              "      <td>1</td>\n",
              "      <td>50</td>\n",
              "      <td>3.5</td>\n",
              "    </tr>\n",
              "  </tbody>\n",
              "</table>\n",
              "</div>"
            ],
            "text/plain": [
              "   userId  movieId  rating\n",
              "0       1        2     3.5\n",
              "1       1       29     3.5\n",
              "2       1       32     3.5\n",
              "3       1       47     3.5\n",
              "4       1       50     3.5"
            ]
          },
          "metadata": {
            "tags": []
          },
          "execution_count": 34
        }
      ]
    },
    {
      "cell_type": "code",
      "metadata": {
        "_cell_guid": "6d71f687-fbb9-4863-a61a-820cd93854c9",
        "_uuid": "abe49c82db8f334e4e1ee605c600c32bb241c013",
        "id": "UgoWEwFpQL9Q",
        "outputId": "49862c1d-591f-47f8-86d4-9af46ba558c5",
        "colab": {
          "base_uri": "https://localhost:8080/",
          "height": 198
        }
      },
      "source": [
        "#displays first 5 data from a dataframe\n",
        "#here movies.csv has 3 columns\n",
        "data.head()"
      ],
      "execution_count": 35,
      "outputs": [
        {
          "output_type": "execute_result",
          "data": {
            "text/html": [
              "<div>\n",
              "<style scoped>\n",
              "    .dataframe tbody tr th:only-of-type {\n",
              "        vertical-align: middle;\n",
              "    }\n",
              "\n",
              "    .dataframe tbody tr th {\n",
              "        vertical-align: top;\n",
              "    }\n",
              "\n",
              "    .dataframe thead th {\n",
              "        text-align: right;\n",
              "    }\n",
              "</style>\n",
              "<table border=\"1\" class=\"dataframe\">\n",
              "  <thead>\n",
              "    <tr style=\"text-align: right;\">\n",
              "      <th></th>\n",
              "      <th>movieId</th>\n",
              "      <th>title</th>\n",
              "      <th>genres</th>\n",
              "    </tr>\n",
              "  </thead>\n",
              "  <tbody>\n",
              "    <tr>\n",
              "      <th>0</th>\n",
              "      <td>1</td>\n",
              "      <td>Toy Story (1995)</td>\n",
              "      <td>Adventure|Animation|Children|Comedy|Fantasy</td>\n",
              "    </tr>\n",
              "    <tr>\n",
              "      <th>1</th>\n",
              "      <td>2</td>\n",
              "      <td>Jumanji (1995)</td>\n",
              "      <td>Adventure|Children|Fantasy</td>\n",
              "    </tr>\n",
              "    <tr>\n",
              "      <th>2</th>\n",
              "      <td>3</td>\n",
              "      <td>Grumpier Old Men (1995)</td>\n",
              "      <td>Comedy|Romance</td>\n",
              "    </tr>\n",
              "    <tr>\n",
              "      <th>3</th>\n",
              "      <td>4</td>\n",
              "      <td>Waiting to Exhale (1995)</td>\n",
              "      <td>Comedy|Drama|Romance</td>\n",
              "    </tr>\n",
              "    <tr>\n",
              "      <th>4</th>\n",
              "      <td>5</td>\n",
              "      <td>Father of the Bride Part II (1995)</td>\n",
              "      <td>Comedy</td>\n",
              "    </tr>\n",
              "  </tbody>\n",
              "</table>\n",
              "</div>"
            ],
            "text/plain": [
              "   movieId  ...                                       genres\n",
              "0        1  ...  Adventure|Animation|Children|Comedy|Fantasy\n",
              "1        2  ...                   Adventure|Children|Fantasy\n",
              "2        3  ...                               Comedy|Romance\n",
              "3        4  ...                         Comedy|Drama|Romance\n",
              "4        5  ...                                       Comedy\n",
              "\n",
              "[5 rows x 3 columns]"
            ]
          },
          "metadata": {
            "tags": []
          },
          "execution_count": 35
        }
      ]
    },
    {
      "cell_type": "code",
      "metadata": {
        "_cell_guid": "9685df77-df86-49e1-97f0-51aba62641cd",
        "_uuid": "ed4aa51b647f59b04c279c9fa4817ac53dd52de6",
        "id": "bmf_80YQQL9T",
        "outputId": "c399df6f-7ade-4311-ca1b-186da0f635c3",
        "colab": {
          "base_uri": "https://localhost:8080/",
          "height": 138
        }
      },
      "source": [
        "#merging two dataframes \"movies.csv\" and \"ratings.csv\"\n",
        "movie_data_ratings_data=data.merge(ratings_data,on = 'movieId',how = 'inner')\n",
        "movie_data_ratings_data.head(3)"
      ],
      "execution_count": 36,
      "outputs": [
        {
          "output_type": "execute_result",
          "data": {
            "text/html": [
              "<div>\n",
              "<style scoped>\n",
              "    .dataframe tbody tr th:only-of-type {\n",
              "        vertical-align: middle;\n",
              "    }\n",
              "\n",
              "    .dataframe tbody tr th {\n",
              "        vertical-align: top;\n",
              "    }\n",
              "\n",
              "    .dataframe thead th {\n",
              "        text-align: right;\n",
              "    }\n",
              "</style>\n",
              "<table border=\"1\" class=\"dataframe\">\n",
              "  <thead>\n",
              "    <tr style=\"text-align: right;\">\n",
              "      <th></th>\n",
              "      <th>movieId</th>\n",
              "      <th>title</th>\n",
              "      <th>genres</th>\n",
              "      <th>userId</th>\n",
              "      <th>rating</th>\n",
              "    </tr>\n",
              "  </thead>\n",
              "  <tbody>\n",
              "    <tr>\n",
              "      <th>0</th>\n",
              "      <td>1</td>\n",
              "      <td>Toy Story (1995)</td>\n",
              "      <td>Adventure|Animation|Children|Comedy|Fantasy</td>\n",
              "      <td>3</td>\n",
              "      <td>4.0</td>\n",
              "    </tr>\n",
              "    <tr>\n",
              "      <th>1</th>\n",
              "      <td>1</td>\n",
              "      <td>Toy Story (1995)</td>\n",
              "      <td>Adventure|Animation|Children|Comedy|Fantasy</td>\n",
              "      <td>6</td>\n",
              "      <td>5.0</td>\n",
              "    </tr>\n",
              "    <tr>\n",
              "      <th>2</th>\n",
              "      <td>1</td>\n",
              "      <td>Toy Story (1995)</td>\n",
              "      <td>Adventure|Animation|Children|Comedy|Fantasy</td>\n",
              "      <td>8</td>\n",
              "      <td>4.0</td>\n",
              "    </tr>\n",
              "  </tbody>\n",
              "</table>\n",
              "</div>"
            ],
            "text/plain": [
              "   movieId             title  ... userId  rating\n",
              "0        1  Toy Story (1995)  ...      3     4.0\n",
              "1        1  Toy Story (1995)  ...      6     5.0\n",
              "2        1  Toy Story (1995)  ...      8     4.0\n",
              "\n",
              "[3 rows x 5 columns]"
            ]
          },
          "metadata": {
            "tags": []
          },
          "execution_count": 36
        }
      ]
    },
    {
      "cell_type": "code",
      "metadata": {
        "_cell_guid": "5b03abf8-964f-4116-88ef-dc9a312c9131",
        "_uuid": "9fc4ad5e5b2aa46143faad09f1e7ab07623a1dcc",
        "id": "KX048-7LQL9V",
        "outputId": "3ada3549-d92f-4b33-a79d-db10ce1f4d81",
        "colab": {
          "base_uri": "https://localhost:8080/",
          "height": 348
        }
      },
      "source": [
        "#displays high rated movies\n",
        "high_rated= movie_data_ratings_data['rating']>4.0\n",
        "movie_data_ratings_data[high_rated].head(10)\n"
      ],
      "execution_count": 37,
      "outputs": [
        {
          "output_type": "execute_result",
          "data": {
            "text/html": [
              "<div>\n",
              "<style scoped>\n",
              "    .dataframe tbody tr th:only-of-type {\n",
              "        vertical-align: middle;\n",
              "    }\n",
              "\n",
              "    .dataframe tbody tr th {\n",
              "        vertical-align: top;\n",
              "    }\n",
              "\n",
              "    .dataframe thead th {\n",
              "        text-align: right;\n",
              "    }\n",
              "</style>\n",
              "<table border=\"1\" class=\"dataframe\">\n",
              "  <thead>\n",
              "    <tr style=\"text-align: right;\">\n",
              "      <th></th>\n",
              "      <th>movieId</th>\n",
              "      <th>title</th>\n",
              "      <th>genres</th>\n",
              "      <th>userId</th>\n",
              "      <th>rating</th>\n",
              "    </tr>\n",
              "  </thead>\n",
              "  <tbody>\n",
              "    <tr>\n",
              "      <th>1</th>\n",
              "      <td>1</td>\n",
              "      <td>Toy Story (1995)</td>\n",
              "      <td>Adventure|Animation|Children|Comedy|Fantasy</td>\n",
              "      <td>6</td>\n",
              "      <td>5.0</td>\n",
              "    </tr>\n",
              "    <tr>\n",
              "      <th>4</th>\n",
              "      <td>1</td>\n",
              "      <td>Toy Story (1995)</td>\n",
              "      <td>Adventure|Animation|Children|Comedy|Fantasy</td>\n",
              "      <td>11</td>\n",
              "      <td>4.5</td>\n",
              "    </tr>\n",
              "    <tr>\n",
              "      <th>7</th>\n",
              "      <td>1</td>\n",
              "      <td>Toy Story (1995)</td>\n",
              "      <td>Adventure|Animation|Children|Comedy|Fantasy</td>\n",
              "      <td>14</td>\n",
              "      <td>4.5</td>\n",
              "    </tr>\n",
              "    <tr>\n",
              "      <th>9</th>\n",
              "      <td>1</td>\n",
              "      <td>Toy Story (1995)</td>\n",
              "      <td>Adventure|Animation|Children|Comedy|Fantasy</td>\n",
              "      <td>19</td>\n",
              "      <td>5.0</td>\n",
              "    </tr>\n",
              "    <tr>\n",
              "      <th>14</th>\n",
              "      <td>1</td>\n",
              "      <td>Toy Story (1995)</td>\n",
              "      <td>Adventure|Animation|Children|Comedy|Fantasy</td>\n",
              "      <td>34</td>\n",
              "      <td>5.0</td>\n",
              "    </tr>\n",
              "    <tr>\n",
              "      <th>15</th>\n",
              "      <td>1</td>\n",
              "      <td>Toy Story (1995)</td>\n",
              "      <td>Adventure|Animation|Children|Comedy|Fantasy</td>\n",
              "      <td>39</td>\n",
              "      <td>5.0</td>\n",
              "    </tr>\n",
              "    <tr>\n",
              "      <th>19</th>\n",
              "      <td>1</td>\n",
              "      <td>Toy Story (1995)</td>\n",
              "      <td>Adventure|Animation|Children|Comedy|Fantasy</td>\n",
              "      <td>58</td>\n",
              "      <td>5.0</td>\n",
              "    </tr>\n",
              "    <tr>\n",
              "      <th>20</th>\n",
              "      <td>1</td>\n",
              "      <td>Toy Story (1995)</td>\n",
              "      <td>Adventure|Animation|Children|Comedy|Fantasy</td>\n",
              "      <td>59</td>\n",
              "      <td>4.5</td>\n",
              "    </tr>\n",
              "    <tr>\n",
              "      <th>24</th>\n",
              "      <td>1</td>\n",
              "      <td>Toy Story (1995)</td>\n",
              "      <td>Adventure|Animation|Children|Comedy|Fantasy</td>\n",
              "      <td>82</td>\n",
              "      <td>5.0</td>\n",
              "    </tr>\n",
              "    <tr>\n",
              "      <th>25</th>\n",
              "      <td>1</td>\n",
              "      <td>Toy Story (1995)</td>\n",
              "      <td>Adventure|Animation|Children|Comedy|Fantasy</td>\n",
              "      <td>84</td>\n",
              "      <td>5.0</td>\n",
              "    </tr>\n",
              "  </tbody>\n",
              "</table>\n",
              "</div>"
            ],
            "text/plain": [
              "    movieId             title  ... userId  rating\n",
              "1         1  Toy Story (1995)  ...      6     5.0\n",
              "4         1  Toy Story (1995)  ...     11     4.5\n",
              "7         1  Toy Story (1995)  ...     14     4.5\n",
              "9         1  Toy Story (1995)  ...     19     5.0\n",
              "14        1  Toy Story (1995)  ...     34     5.0\n",
              "15        1  Toy Story (1995)  ...     39     5.0\n",
              "19        1  Toy Story (1995)  ...     58     5.0\n",
              "20        1  Toy Story (1995)  ...     59     4.5\n",
              "24        1  Toy Story (1995)  ...     82     5.0\n",
              "25        1  Toy Story (1995)  ...     84     5.0\n",
              "\n",
              "[10 rows x 5 columns]"
            ]
          },
          "metadata": {
            "tags": []
          },
          "execution_count": 37
        }
      ]
    },
    {
      "cell_type": "code",
      "metadata": {
        "_cell_guid": "ffed9003-ab6f-445e-a81c-d876a4c44ba0",
        "_uuid": "ef136636b674d0425de16b2a2fc71e149d15542d",
        "id": "GgDdSSxoQL9Y",
        "outputId": "2d0fe9e9-2cea-419d-f772-2683db5138d6",
        "colab": {
          "base_uri": "https://localhost:8080/",
          "height": 198
        }
      },
      "source": [
        "# displays low rated movies\n",
        "low_rated = movie_data_ratings_data['rating']<4.0\n",
        "movie_data_ratings_data[low_rated].head()"
      ],
      "execution_count": 38,
      "outputs": [
        {
          "output_type": "execute_result",
          "data": {
            "text/html": [
              "<div>\n",
              "<style scoped>\n",
              "    .dataframe tbody tr th:only-of-type {\n",
              "        vertical-align: middle;\n",
              "    }\n",
              "\n",
              "    .dataframe tbody tr th {\n",
              "        vertical-align: top;\n",
              "    }\n",
              "\n",
              "    .dataframe thead th {\n",
              "        text-align: right;\n",
              "    }\n",
              "</style>\n",
              "<table border=\"1\" class=\"dataframe\">\n",
              "  <thead>\n",
              "    <tr style=\"text-align: right;\">\n",
              "      <th></th>\n",
              "      <th>movieId</th>\n",
              "      <th>title</th>\n",
              "      <th>genres</th>\n",
              "      <th>userId</th>\n",
              "      <th>rating</th>\n",
              "    </tr>\n",
              "  </thead>\n",
              "  <tbody>\n",
              "    <tr>\n",
              "      <th>8</th>\n",
              "      <td>1</td>\n",
              "      <td>Toy Story (1995)</td>\n",
              "      <td>Adventure|Animation|Children|Comedy|Fantasy</td>\n",
              "      <td>16</td>\n",
              "      <td>3.0</td>\n",
              "    </tr>\n",
              "    <tr>\n",
              "      <th>10</th>\n",
              "      <td>1</td>\n",
              "      <td>Toy Story (1995)</td>\n",
              "      <td>Adventure|Animation|Children|Comedy|Fantasy</td>\n",
              "      <td>22</td>\n",
              "      <td>3.0</td>\n",
              "    </tr>\n",
              "    <tr>\n",
              "      <th>13</th>\n",
              "      <td>1</td>\n",
              "      <td>Toy Story (1995)</td>\n",
              "      <td>Adventure|Animation|Children|Comedy|Fantasy</td>\n",
              "      <td>31</td>\n",
              "      <td>3.0</td>\n",
              "    </tr>\n",
              "    <tr>\n",
              "      <th>16</th>\n",
              "      <td>1</td>\n",
              "      <td>Toy Story (1995)</td>\n",
              "      <td>Adventure|Animation|Children|Comedy|Fantasy</td>\n",
              "      <td>47</td>\n",
              "      <td>1.0</td>\n",
              "    </tr>\n",
              "    <tr>\n",
              "      <th>23</th>\n",
              "      <td>1</td>\n",
              "      <td>Toy Story (1995)</td>\n",
              "      <td>Adventure|Animation|Children|Comedy|Fantasy</td>\n",
              "      <td>80</td>\n",
              "      <td>3.0</td>\n",
              "    </tr>\n",
              "  </tbody>\n",
              "</table>\n",
              "</div>"
            ],
            "text/plain": [
              "    movieId             title  ... userId  rating\n",
              "8         1  Toy Story (1995)  ...     16     3.0\n",
              "10        1  Toy Story (1995)  ...     22     3.0\n",
              "13        1  Toy Story (1995)  ...     31     3.0\n",
              "16        1  Toy Story (1995)  ...     47     1.0\n",
              "23        1  Toy Story (1995)  ...     80     3.0\n",
              "\n",
              "[5 rows x 5 columns]"
            ]
          },
          "metadata": {
            "tags": []
          },
          "execution_count": 38
        }
      ]
    },
    {
      "cell_type": "code",
      "metadata": {
        "_cell_guid": "0eb2ad7d-2221-492f-bb76-6e614971a05b",
        "_uuid": "aad0433949f15172f60fc85299a75778e87ac9e8",
        "scrolled": true,
        "id": "tx2_XdxjQL9c",
        "outputId": "a9fcc979-84a1-4ccd-ebaf-261a95ec5d35",
        "colab": {
          "base_uri": "https://localhost:8080/",
          "height": 198
        }
      },
      "source": [
        "#slicing out columns to display only title and genres columns from movies.csv\n",
        "data[['title','genres']].head()"
      ],
      "execution_count": 39,
      "outputs": [
        {
          "output_type": "execute_result",
          "data": {
            "text/html": [
              "<div>\n",
              "<style scoped>\n",
              "    .dataframe tbody tr th:only-of-type {\n",
              "        vertical-align: middle;\n",
              "    }\n",
              "\n",
              "    .dataframe tbody tr th {\n",
              "        vertical-align: top;\n",
              "    }\n",
              "\n",
              "    .dataframe thead th {\n",
              "        text-align: right;\n",
              "    }\n",
              "</style>\n",
              "<table border=\"1\" class=\"dataframe\">\n",
              "  <thead>\n",
              "    <tr style=\"text-align: right;\">\n",
              "      <th></th>\n",
              "      <th>title</th>\n",
              "      <th>genres</th>\n",
              "    </tr>\n",
              "  </thead>\n",
              "  <tbody>\n",
              "    <tr>\n",
              "      <th>0</th>\n",
              "      <td>Toy Story (1995)</td>\n",
              "      <td>Adventure|Animation|Children|Comedy|Fantasy</td>\n",
              "    </tr>\n",
              "    <tr>\n",
              "      <th>1</th>\n",
              "      <td>Jumanji (1995)</td>\n",
              "      <td>Adventure|Children|Fantasy</td>\n",
              "    </tr>\n",
              "    <tr>\n",
              "      <th>2</th>\n",
              "      <td>Grumpier Old Men (1995)</td>\n",
              "      <td>Comedy|Romance</td>\n",
              "    </tr>\n",
              "    <tr>\n",
              "      <th>3</th>\n",
              "      <td>Waiting to Exhale (1995)</td>\n",
              "      <td>Comedy|Drama|Romance</td>\n",
              "    </tr>\n",
              "    <tr>\n",
              "      <th>4</th>\n",
              "      <td>Father of the Bride Part II (1995)</td>\n",
              "      <td>Comedy</td>\n",
              "    </tr>\n",
              "  </tbody>\n",
              "</table>\n",
              "</div>"
            ],
            "text/plain": [
              "                                title                                       genres\n",
              "0                    Toy Story (1995)  Adventure|Animation|Children|Comedy|Fantasy\n",
              "1                      Jumanji (1995)                   Adventure|Children|Fantasy\n",
              "2             Grumpier Old Men (1995)                               Comedy|Romance\n",
              "3            Waiting to Exhale (1995)                         Comedy|Drama|Romance\n",
              "4  Father of the Bride Part II (1995)                                       Comedy"
            ]
          },
          "metadata": {
            "tags": []
          },
          "execution_count": 39
        }
      ]
    },
    {
      "cell_type": "code",
      "metadata": {
        "_cell_guid": "8765087a-da29-4301-8ed1-9ce6d8acfa84",
        "_uuid": "a37498c5d5b12665b201b1ddcf790ebdf51f1635",
        "id": "sUsZXxlgQL9f"
      },
      "source": [
        "#define a function that counts the number of times each genre appear:\n",
        "def count_word(df, ref_col, liste):\n",
        "    keyword_count = dict()\n",
        "    for s in liste: keyword_count[s] = 0\n",
        "    for liste_keywords in df[ref_col].str.split('|'):\n",
        "        if type(liste_keywords) == float and pd.isnull(liste_keywords): continue\n",
        "        for s in liste_keywords: \n",
        "            if pd.notnull(s): keyword_count[s] += 1\n",
        "    # convert the dictionary in a list to sort the keywords  by frequency\n",
        "    keyword_occurences = []\n",
        "    for k,v in keyword_count.items():\n",
        "        keyword_occurences.append([k,v])\n",
        "    keyword_occurences.sort(key = lambda x:x[1], reverse = True)\n",
        "    return keyword_occurences, keyword_count"
      ],
      "execution_count": 40,
      "outputs": []
    },
    {
      "cell_type": "code",
      "metadata": {
        "_cell_guid": "70c2d64f-bcfb-4e15-9a96-ddb0ac22985d",
        "_uuid": "9c60a0d95160fcc6a5eb0a6afd208ab460dbeb27",
        "id": "X0zM3Vr5QL9i"
      },
      "source": [
        "#here we  make census of the genres:\n",
        "genre_labels = set()\n",
        "for s in data['genres'].str.split('|').values:\n",
        "    genre_labels = genre_labels.union(set(s))"
      ],
      "execution_count": 41,
      "outputs": []
    },
    {
      "cell_type": "code",
      "metadata": {
        "_cell_guid": "701adbf1-b1b8-4742-a728-eac18a5e9260",
        "_uuid": "6317436e295fb1a7967bcad493e4e0fa6f770ac9",
        "id": "WlT_ftspQL9k",
        "outputId": "bf2c85ef-0090-48a9-ad4c-045e270d104c",
        "colab": {
          "base_uri": "https://localhost:8080/"
        }
      },
      "source": [
        "#counting how many times each of genres occur:\n",
        "keyword_occurences, dum = count_word(data, 'genres', genre_labels)\n",
        "keyword_occurences"
      ],
      "execution_count": 42,
      "outputs": [
        {
          "output_type": "execute_result",
          "data": {
            "text/plain": [
              "[['Drama', 13344],\n",
              " ['Comedy', 8374],\n",
              " ['Thriller', 4178],\n",
              " ['Romance', 4127],\n",
              " ['Action', 3520],\n",
              " ['Crime', 2939],\n",
              " ['Horror', 2611],\n",
              " ['Documentary', 2471],\n",
              " ['Adventure', 2329],\n",
              " ['Sci-Fi', 1743],\n",
              " ['Mystery', 1514],\n",
              " ['Fantasy', 1412],\n",
              " ['War', 1194],\n",
              " ['Children', 1139],\n",
              " ['Musical', 1036],\n",
              " ['Animation', 1027],\n",
              " ['Western', 676],\n",
              " ['Film-Noir', 330],\n",
              " ['(no genres listed)', 246],\n",
              " ['IMAX', 196]]"
            ]
          },
          "metadata": {
            "tags": []
          },
          "execution_count": 42
        }
      ]
    },
    {
      "cell_type": "markdown",
      "metadata": {
        "_cell_guid": "c8ff4dc6-c937-4af6-9f57-9a1b4723bd4c",
        "_uuid": "5c34f54468bef9dfa5eb02cca185c8d7fb80f795",
        "id": "1nxK96y3QL9o"
      },
      "source": [
        "**4. Data Visualization**"
      ]
    },
    {
      "cell_type": "code",
      "metadata": {
        "_cell_guid": "498d7d9a-95b1-4334-be19-62878e90ca90",
        "_uuid": "df80cddb2adb376178d9b3575782f40e91987b80",
        "id": "Ar-lC0JeQL9o",
        "outputId": "5de7d369-c86b-492d-e909-1662507a3972",
        "colab": {
          "base_uri": "https://localhost:8080/",
          "height": 357
        }
      },
      "source": [
        "# Function that control the color of the words\n",
        "def random_color_func(word=None, font_size=None, position=None,\n",
        "                      orientation=None, font_path=None, random_state=None):\n",
        "    h = int(360.0 * tone / 255.0)\n",
        "    s = int(100.0 * 255.0 / 255.0)\n",
        "    l = int(100.0 * float(random_state.randint(70, 120)) / 255.0)\n",
        "    return \"hsl({}, {}%, {}%)\".format(h, s, l)\n",
        "\n",
        "\n",
        "#Finally, the result is shown as a wordcloud:\n",
        "words = dict()\n",
        "trunc_occurences = keyword_occurences[0:50]\n",
        "for s in trunc_occurences:\n",
        "    words[s[0]] = s[1]\n",
        "tone = 100 # define the color of the words\n",
        "f, ax = plt.subplots(figsize=(14, 6))\n",
        "wordcloud = WordCloud(width=550,height=300, background_color='black', \n",
        "                      max_words=1628,relative_scaling=0.7,\n",
        "                      color_func = random_color_func,\n",
        "                      normalize_plurals=False)\n",
        "wordcloud.generate_from_frequencies(words)\n",
        "plt.imshow(wordcloud, interpolation=\"bilinear\")\n",
        "plt.axis('off')\n",
        "plt.show()"
      ],
      "execution_count": 43,
      "outputs": [
        {
          "output_type": "display_data",
          "data": {
            "image/png": "[encoded data removed]",
            "text/plain": [
              "<Figure size 1008x432 with 1 Axes>"
            ]
          },
          "metadata": {
            "tags": [],
            "needs_background": "light"
          }
        }
      ]
    },
    {
      "cell_type": "code",
      "metadata": {
        "_cell_guid": "5891fac0-cd0d-404d-af83-e006bdf7f703",
        "_uuid": "625ff813a887fbe8afdec0c8f6b2fdf238cf8c17",
        "id": "fUaEpDnmQL9r",
        "outputId": "fa74b83f-b7f5-487b-f3e9-88a547015a51",
        "colab": {
          "base_uri": "https://localhost:8080/",
          "height": 522
        }
      },
      "source": [
        "# lets display the same result in the histogram\n",
        "fig = plt.figure(1, figsize=(18,13))\n",
        "ax2 = fig.add_subplot(2,1,2)\n",
        "y_axis = [i[1] for i in trunc_occurences]\n",
        "x_axis = [k for k,i in enumerate(trunc_occurences)]\n",
        "x_label = [i[0] for i in trunc_occurences]\n",
        "plt.xticks(rotation=85, fontsize = 15)\n",
        "plt.yticks(fontsize = 15)\n",
        "plt.xticks(x_axis, x_label)\n",
        "plt.ylabel(\"No. of occurences\", fontsize = 24, labelpad = 0)\n",
        "ax2.bar(x_axis, y_axis, align = 'center', color='r')\n",
        "plt.title(\"Popularity of Genres\",bbox={'facecolor':'k', 'pad':5},color='w',fontsize = 30)\n",
        "plt.show()"
      ],
      "execution_count": 44,
      "outputs": [
        {
          "output_type": "display_data",
          "data": {
            "image/png": "[encoded data removed]",
            "text/plain": [
              "<Figure size 1296x936 with 1 Axes>"
            ]
          },
          "metadata": {
            "tags": [],
            "needs_background": "light"
          }
        }
      ]
    },
    {
      "cell_type": "code",
      "metadata": {
        "id": "v-Uvf69DQL90",
        "outputId": "7bf6aad1-609f-47bc-dc36-b622dd160f31",
        "colab": {
          "base_uri": "https://localhost:8080/"
        }
      },
      "source": [
        "movie_count=movie_data_ratings_data.groupby('movieId').size()\n",
        "master_data_edit=movie_count[movie_count==1]\n",
        "print(master_data_edit)"
      ],
      "execution_count": 45,
      "outputs": [
        {
          "output_type": "stream",
          "text": [
            "movieId\n",
            "127       1\n",
            "130       1\n",
            "133       1\n",
            "139       1\n",
            "142       1\n",
            "         ..\n",
            "130052    1\n",
            "130073    1\n",
            "130219    1\n",
            "130462    1\n",
            "130642    1\n",
            "Length: 2558, dtype: int64\n"
          ],
          "name": "stdout"
        }
      ]
    },
    {
      "cell_type": "code",
      "metadata": {
        "id": "wshDoeWMQL9x",
        "outputId": "fbcfc420-e6ce-4c3b-8513-149433372f44",
        "colab": {
          "base_uri": "https://localhost:8080/"
        }
      },
      "source": [
        "for m in master_data_edit.index:\n",
        "  movie_data_ratings_data=movie_data_ratings_data.drop(movie_data_ratings_data[movie_data_ratings_data.movieId==m].index)\n",
        "movie_data_ratings_data.shape"
      ],
      "execution_count": 46,
      "outputs": [
        {
          "output_type": "execute_result",
          "data": {
            "text/plain": [
              "(1046017, 5)"
            ]
          },
          "metadata": {
            "tags": []
          },
          "execution_count": 46
        }
      ]
    },
    {
      "cell_type": "code",
      "metadata": {
        "id": "X9ZUDoCLQL92",
        "outputId": "7f1bfe8c-804d-4aa0-c535-c7ef3f8ec743",
        "colab": {
          "base_uri": "https://localhost:8080/",
          "height": 408
        }
      },
      "source": [
        "movie_data_ratings_data.shape\n",
        "movie_data_ratings_data['userId'].value_counts().tail(10)\n",
        "rating_for_one=movie_data_ratings_data.groupby('userId').agg([np.size,np.mean])\n",
        "rating_for_one.head(10)\n"
      ],
      "execution_count": 47,
      "outputs": [
        {
          "output_type": "execute_result",
          "data": {
            "text/html": [
              "<div>\n",
              "<style scoped>\n",
              "    .dataframe tbody tr th:only-of-type {\n",
              "        vertical-align: middle;\n",
              "    }\n",
              "\n",
              "    .dataframe tbody tr th {\n",
              "        vertical-align: top;\n",
              "    }\n",
              "\n",
              "    .dataframe thead tr th {\n",
              "        text-align: left;\n",
              "    }\n",
              "\n",
              "    .dataframe thead tr:last-of-type th {\n",
              "        text-align: right;\n",
              "    }\n",
              "</style>\n",
              "<table border=\"1\" class=\"dataframe\">\n",
              "  <thead>\n",
              "    <tr>\n",
              "      <th></th>\n",
              "      <th colspan=\"2\" halign=\"left\">movieId</th>\n",
              "      <th colspan=\"2\" halign=\"left\">rating</th>\n",
              "    </tr>\n",
              "    <tr>\n",
              "      <th></th>\n",
              "      <th>size</th>\n",
              "      <th>mean</th>\n",
              "      <th>size</th>\n",
              "      <th>mean</th>\n",
              "    </tr>\n",
              "    <tr>\n",
              "      <th>userId</th>\n",
              "      <th></th>\n",
              "      <th></th>\n",
              "      <th></th>\n",
              "      <th></th>\n",
              "    </tr>\n",
              "  </thead>\n",
              "  <tbody>\n",
              "    <tr>\n",
              "      <th>1</th>\n",
              "      <td>175</td>\n",
              "      <td>3428.537143</td>\n",
              "      <td>175.0</td>\n",
              "      <td>3.742857</td>\n",
              "    </tr>\n",
              "    <tr>\n",
              "      <th>2</th>\n",
              "      <td>61</td>\n",
              "      <td>2098.524590</td>\n",
              "      <td>61.0</td>\n",
              "      <td>4.000000</td>\n",
              "    </tr>\n",
              "    <tr>\n",
              "      <th>3</th>\n",
              "      <td>187</td>\n",
              "      <td>1698.331551</td>\n",
              "      <td>187.0</td>\n",
              "      <td>4.122995</td>\n",
              "    </tr>\n",
              "    <tr>\n",
              "      <th>4</th>\n",
              "      <td>28</td>\n",
              "      <td>394.964286</td>\n",
              "      <td>28.0</td>\n",
              "      <td>3.571429</td>\n",
              "    </tr>\n",
              "    <tr>\n",
              "      <th>5</th>\n",
              "      <td>66</td>\n",
              "      <td>574.484848</td>\n",
              "      <td>66.0</td>\n",
              "      <td>4.272727</td>\n",
              "    </tr>\n",
              "    <tr>\n",
              "      <th>6</th>\n",
              "      <td>24</td>\n",
              "      <td>461.875000</td>\n",
              "      <td>24.0</td>\n",
              "      <td>3.750000</td>\n",
              "    </tr>\n",
              "    <tr>\n",
              "      <th>7</th>\n",
              "      <td>276</td>\n",
              "      <td>2425.079710</td>\n",
              "      <td>276.0</td>\n",
              "      <td>3.289855</td>\n",
              "    </tr>\n",
              "    <tr>\n",
              "      <th>8</th>\n",
              "      <td>70</td>\n",
              "      <td>339.385714</td>\n",
              "      <td>70.0</td>\n",
              "      <td>3.800000</td>\n",
              "    </tr>\n",
              "    <tr>\n",
              "      <th>9</th>\n",
              "      <td>35</td>\n",
              "      <td>3185.742857</td>\n",
              "      <td>35.0</td>\n",
              "      <td>3.057143</td>\n",
              "    </tr>\n",
              "    <tr>\n",
              "      <th>10</th>\n",
              "      <td>38</td>\n",
              "      <td>1470.973684</td>\n",
              "      <td>38.0</td>\n",
              "      <td>3.894737</td>\n",
              "    </tr>\n",
              "  </tbody>\n",
              "</table>\n",
              "</div>"
            ],
            "text/plain": [
              "       movieId              rating          \n",
              "          size         mean   size      mean\n",
              "userId                                      \n",
              "1          175  3428.537143  175.0  3.742857\n",
              "2           61  2098.524590   61.0  4.000000\n",
              "3          187  1698.331551  187.0  4.122995\n",
              "4           28   394.964286   28.0  3.571429\n",
              "5           66   574.484848   66.0  4.272727\n",
              "6           24   461.875000   24.0  3.750000\n",
              "7          276  2425.079710  276.0  3.289855\n",
              "8           70   339.385714   70.0  3.800000\n",
              "9           35  3185.742857   35.0  3.057143\n",
              "10          38  1470.973684   38.0  3.894737"
            ]
          },
          "metadata": {
            "tags": []
          },
          "execution_count": 47
        }
      ]
    },
    {
      "cell_type": "code",
      "metadata": {
        "id": "LCyk6lqVQL96",
        "outputId": "31fd454e-be94-4963-a840-5320131c5b20",
        "colab": {
          "base_uri": "https://localhost:8080/",
          "height": 467
        }
      },
      "source": [
        "rating_for_one.drop('movieId',axis=1)"
      ],
      "execution_count": 48,
      "outputs": [
        {
          "output_type": "execute_result",
          "data": {
            "text/html": [
              "<div>\n",
              "<style scoped>\n",
              "    .dataframe tbody tr th:only-of-type {\n",
              "        vertical-align: middle;\n",
              "    }\n",
              "\n",
              "    .dataframe tbody tr th {\n",
              "        vertical-align: top;\n",
              "    }\n",
              "\n",
              "    .dataframe thead tr th {\n",
              "        text-align: left;\n",
              "    }\n",
              "\n",
              "    .dataframe thead tr:last-of-type th {\n",
              "        text-align: right;\n",
              "    }\n",
              "</style>\n",
              "<table border=\"1\" class=\"dataframe\">\n",
              "  <thead>\n",
              "    <tr>\n",
              "      <th></th>\n",
              "      <th colspan=\"2\" halign=\"left\">rating</th>\n",
              "    </tr>\n",
              "    <tr>\n",
              "      <th></th>\n",
              "      <th>size</th>\n",
              "      <th>mean</th>\n",
              "    </tr>\n",
              "    <tr>\n",
              "      <th>userId</th>\n",
              "      <th></th>\n",
              "      <th></th>\n",
              "    </tr>\n",
              "  </thead>\n",
              "  <tbody>\n",
              "    <tr>\n",
              "      <th>1</th>\n",
              "      <td>175.0</td>\n",
              "      <td>3.742857</td>\n",
              "    </tr>\n",
              "    <tr>\n",
              "      <th>2</th>\n",
              "      <td>61.0</td>\n",
              "      <td>4.000000</td>\n",
              "    </tr>\n",
              "    <tr>\n",
              "      <th>3</th>\n",
              "      <td>187.0</td>\n",
              "      <td>4.122995</td>\n",
              "    </tr>\n",
              "    <tr>\n",
              "      <th>4</th>\n",
              "      <td>28.0</td>\n",
              "      <td>3.571429</td>\n",
              "    </tr>\n",
              "    <tr>\n",
              "      <th>5</th>\n",
              "      <td>66.0</td>\n",
              "      <td>4.272727</td>\n",
              "    </tr>\n",
              "    <tr>\n",
              "      <th>...</th>\n",
              "      <td>...</td>\n",
              "      <td>...</td>\n",
              "    </tr>\n",
              "    <tr>\n",
              "      <th>7116</th>\n",
              "      <td>232.0</td>\n",
              "      <td>3.797414</td>\n",
              "    </tr>\n",
              "    <tr>\n",
              "      <th>7117</th>\n",
              "      <td>188.0</td>\n",
              "      <td>3.936170</td>\n",
              "    </tr>\n",
              "    <tr>\n",
              "      <th>7118</th>\n",
              "      <td>40.0</td>\n",
              "      <td>4.075000</td>\n",
              "    </tr>\n",
              "    <tr>\n",
              "      <th>7119</th>\n",
              "      <td>50.0</td>\n",
              "      <td>3.740000</td>\n",
              "    </tr>\n",
              "    <tr>\n",
              "      <th>7120</th>\n",
              "      <td>20.0</td>\n",
              "      <td>4.125000</td>\n",
              "    </tr>\n",
              "  </tbody>\n",
              "</table>\n",
              "<p>7120 rows × 2 columns</p>\n",
              "</div>"
            ],
            "text/plain": [
              "       rating          \n",
              "         size      mean\n",
              "userId                 \n",
              "1       175.0  3.742857\n",
              "2        61.0  4.000000\n",
              "3       187.0  4.122995\n",
              "4        28.0  3.571429\n",
              "5        66.0  4.272727\n",
              "...       ...       ...\n",
              "7116    232.0  3.797414\n",
              "7117    188.0  3.936170\n",
              "7118     40.0  4.075000\n",
              "7119     50.0  3.740000\n",
              "7120     20.0  4.125000\n",
              "\n",
              "[7120 rows x 2 columns]"
            ]
          },
          "metadata": {
            "tags": []
          },
          "execution_count": 48
        }
      ]
    },
    {
      "cell_type": "code",
      "metadata": {
        "id": "xlNya62mQL9-",
        "outputId": "d5c46c32-d483-4fe4-e9d9-bf857161eabd",
        "colab": {
          "base_uri": "https://localhost:8080/",
          "height": 336
        }
      },
      "source": [
        "#displays high rated movies\n",
        "high_rated= rating_for_one['rating']['mean']>4.0\n",
        "rating_for_one[high_rated].head(10)\n",
        "rating_for_one['rating']['mean'].head(10).sort_values(ascending=False).plot(kind='bar',figsize=(10,5))\n",
        "plt.show()\n"
      ],
      "execution_count": 49,
      "outputs": [
        {
          "output_type": "display_data",
          "data": {
            "image/png": "[encoded data removed]",
            "text/plain": [
              "<Figure size 720x360 with 1 Axes>"
            ]
          },
          "metadata": {
            "tags": [],
            "needs_background": "light"
          }
        }
      ]
    },
    {
      "cell_type": "code",
      "metadata": {
        "id": "uqo_Smvizrks",
        "outputId": "36d9ec0c-1592-45fa-98bd-f9b6031ee4b7",
        "colab": {
          "base_uri": "https://localhost:8080/",
          "height": 265
        }
      },
      "source": [
        "plt.bar(rating_for_one['rating']['size'],rating_for_one['rating']['mean'])\n",
        "plt.show()"
      ],
      "execution_count": 50,
      "outputs": [
        {
          "output_type": "display_data",
          "data": {
            "image/png": "[encoded data removed]",
            "text/plain": [
              "<Figure size 432x288 with 1 Axes>"
            ]
          },
          "metadata": {
            "tags": [],
            "needs_background": "light"
          }
        }
      ]
    }
  ]
}